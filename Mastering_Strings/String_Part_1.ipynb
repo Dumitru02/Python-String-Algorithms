{
 "cells": [
  {
   "cell_type": "code",
   "execution_count": 1,
   "id": "84e8aaa6-74d6-463c-b20d-d7ce5d41d213",
   "metadata": {
    "collapsed": true,
    "jupyter": {
     "outputs_hidden": true
    },
    "scrolled": true
   },
   "outputs": [
    {
     "name": "stdout",
     "output_type": "stream",
     "text": [
      "9\n"
     ]
    }
   ],
   "source": [
    "#1. Write a Python program to calculate the length of a string.\n",
    "name = 'Cristache'\n",
    "print(len(name))"
   ]
  },
  {
   "cell_type": "code",
   "execution_count": 2,
   "id": "b5ec6092-b0e2-48bd-8ef2-273a7a9e2be5",
   "metadata": {},
   "outputs": [
    {
     "name": "stdout",
     "output_type": "stream",
     "text": [
      "{'g': 2, 'o': 3, 'l': 1, 'e': 1, '.': 1, 'c': 1, 'm': 1}\n"
     ]
    }
   ],
   "source": [
    "#2. Count character frequency in a string.\n",
    "  #  Sample String : google.com'\n",
    "  #  Expected Result : {'g': 2, 'o': 3, 'l': 1, 'e': 1, '.': 1, 'c': 1, 'm': 1}\n",
    "\n",
    "from collections import Counter\n",
    "sample_string = \"google.com\"\n",
    "result = dict(Counter(sample_string))\n",
    "print(result)\n"
   ]
  },
  {
   "cell_type": "code",
   "execution_count": 3,
   "id": "b8cb0333-b061-4bfa-af75-08e67b193a55",
   "metadata": {
    "jupyter": {
     "source_hidden": true
    }
   },
   "outputs": [
    {
     "data": {
      "text/plain": [
       "'Abef'"
      ]
     },
     "execution_count": 3,
     "metadata": {},
     "output_type": "execute_result"
    }
   ],
   "source": [
    "# 3. Write a Python program to get a string made of the first 2 and last 2 characters of a given string.\n",
    "# If the string length is less than 2, return the empty string instead.\n",
    "\n",
    "def start_end(a):\n",
    "    if len(a)<2:\n",
    "      return ''\n",
    "    return a[0:2] + a[-2:]\n",
    "\n",
    "start_end('Abcdef')\n",
    "#start_end('A')\n",
    "#start_end('Ab')\n",
    "    "
   ]
  },
  {
   "cell_type": "code",
   "execution_count": 4,
   "id": "101c7d61-9282-4e79-9ed3-08a0ecae9952",
   "metadata": {},
   "outputs": [
    {
     "name": "stdout",
     "output_type": "stream",
     "text": [
      "resta$t\n"
     ]
    }
   ],
   "source": [
    "#4. Replace first char occurrences with $.\n",
    "   # Sample String : 'restart'\n",
    "   # Expected Result : 'resta$t'\n",
    "\n",
    "def replace_first_ch(s):\n",
    "    first_char = s[0]\n",
    "    result = first_char + s[1:].replace(first_char, '$')\n",
    "    print(result)\n",
    "\n",
    "replace_first_ch('restart')"
   ]
  },
  {
   "cell_type": "code",
   "execution_count": 5,
   "id": "693836c3-3777-4bda-a433-a5491ca4cd27",
   "metadata": {},
   "outputs": [
    {
     "name": "stdout",
     "output_type": "stream",
     "text": [
      "xyc abz\n"
     ]
    }
   ],
   "source": [
    "#5. Swap first 2 chars of 2 strings\n",
    "   # Sample String : 'abc', 'xyz'\n",
    "   # Expected Result : 'xyc abz'\n",
    "\n",
    "def mix_char(a, b):\n",
    "    new_a = b[:2] + a[2:]\n",
    "    new_b = a[:2] + b[2:]\n",
    "    return new_a + ' ' + new_b\n",
    "\n",
    "print(mix_char('abc', 'xyz'))  "
   ]
  },
  {
   "cell_type": "code",
   "execution_count": 6,
   "id": "938bb87e-3ab1-46c3-8f64-4684657dc32f",
   "metadata": {},
   "outputs": [
    {
     "name": "stdout",
     "output_type": "stream",
     "text": [
      "abcing\n",
      "playingly\n",
      "go\n"
     ]
    }
   ],
   "source": [
    "#6. Write a Python program to add 'ing' at the end of a given string (length should be at least 3). \n",
    "    # If the given string already ends with 'ing', add 'ly' instead. \n",
    "    # If the string length of the given string is less than 3, leave it unchanged.\n",
    "    # Sample String : 'abc'\n",
    "    # Expected Result : 'abcing'\n",
    " \n",
    "def add(a):\n",
    "    if len(a) < 3:\n",
    "        return a\n",
    "    elif a.endswith('ing'):\n",
    "        return a + 'ly'\n",
    "    else:\n",
    "        return a + 'ing'\n",
    "\n",
    "\n",
    "print(add('abc'))     # abcing\n",
    "print(add('playing')) # playingly\n",
    "print(add('go'))      # go\n"
   ]
  },
  {
   "cell_type": "code",
   "execution_count": 7,
   "id": "0edf190f-2852-4fd8-aa97-3a9feebd041c",
   "metadata": {},
   "outputs": [
    {
     "name": "stdout",
     "output_type": "stream",
     "text": [
      "The lyrics is good!\n",
      "The lyrics is poor!\n"
     ]
    }
   ],
   "source": [
    "#7. Write a Python program to find the first appearance of the substrings 'not' and 'poor' in a given string.\n",
    "    # If 'not' follows 'poor', replace the whole 'not'...'poor' substring with 'good'. Return the resulting string.\n",
    "    # Sample String : 'The lyrics is not that poor!'\n",
    "    # 'The lyrics is poor!'\n",
    "    # Expected Result : 'The lyrics is good!'\n",
    "    # 'The lyrics is poor!'\n",
    "\n",
    "\n",
    "def replace_not_poor(text):\n",
    "    not_index = text.find('not')\n",
    "    poor_index = text.find('poor')\n",
    "\n",
    "    if not_index != -1 and poor_index != -1 and poor_index > not_index:\n",
    "        return text[:not_index] + 'good' + text[poor_index + 4:]\n",
    "    else:\n",
    "        return text\n",
    "\n",
    "\n",
    "print(replace_not_poor('The lyrics is not that poor!'))  # → 'The lyrics is good!'\n",
    "print(replace_not_poor('The lyrics is poor!'))           # → 'The lyrics is poor!'\n"
   ]
  },
  {
   "cell_type": "code",
   "execution_count": 8,
   "id": "a0597896-4d39-47fc-acaf-8becf9d139e8",
   "metadata": {},
   "outputs": [
    {
     "name": "stdout",
     "output_type": "stream",
     "text": [
      "Longest word: programming\n",
      "Length of the longest word: 11\n"
     ]
    }
   ],
   "source": [
    "#8. Write a Python function that takes a list of words and return the longest word and the length of the longest one.\n",
    "    # Sample Output:\n",
    "    # Longest word: Exercises\n",
    "    # Length of the longest word: 9\n",
    "\n",
    "def size(a):\n",
    "    words = a.split()  \n",
    "    longest_word = max(words, key=len)  \n",
    "    return f\"Longest word: {longest_word}\\nLength of the longest word: {len(longest_word)}\"\n",
    "\n",
    "# Test\n",
    "print(size(\"This is a Python programming exercise\"))  \n"
   ]
  },
  {
   "cell_type": "code",
   "execution_count": 9,
   "id": "04dcd0f1-bc18-40a8-9f80-924fab24a318",
   "metadata": {},
   "outputs": [
    {
     "name": "stdout",
     "output_type": "stream",
     "text": [
      "helo\n"
     ]
    }
   ],
   "source": [
    "#9. Write a Python program to remove the nth index character from a nonempty string.\n",
    "\n",
    "def remove(a, n):\n",
    "    if n < 0 or n >= len(a):  \n",
    "        return a  \n",
    "    return a[:n] + a[n+1:]  \n",
    "\n",
    "\n",
    "print(remove(\"hello\", 2))  # 'helo'\n"
   ]
  },
  {
   "cell_type": "code",
   "execution_count": 10,
   "id": "07280d0e-e2ef-4e9c-a135-8e2b6ba620db",
   "metadata": {},
   "outputs": [
    {
     "name": "stdout",
     "output_type": "stream",
     "text": [
      "eristachC\n"
     ]
    }
   ],
   "source": [
    "#10. Swap first and last chars of a string.\n",
    "# Write a Python program to change a given string to a newly string where the first and last chars have been exchanged.\n",
    "\n",
    "def exchanged(a):\n",
    "    if len(a) < 2:\n",
    "        return a\n",
    "    else:\n",
    "        first = a[0]  \n",
    "        last = a[-1]  \n",
    "        middle = a[1:-1]  \n",
    "        return last + middle + first  \n",
    "\n",
    "print(exchanged(\"Cristache\"))  \n"
   ]
  },
  {
   "cell_type": "code",
   "execution_count": 11,
   "id": "c4f97700-0ac6-49aa-9089-bb79fc0458de",
   "metadata": {},
   "outputs": [
    {
     "name": "stdout",
     "output_type": "stream",
     "text": [
      "ace\n"
     ]
    }
   ],
   "source": [
    "#11. Remove odd index chars from a string.\n",
    "     # Write a Python program to remove characters that have odd index values in a given string.\n",
    "\n",
    "def ood_char(a):\n",
    "    result = ''\n",
    "\n",
    "    for  i in range(len(a)):\n",
    "        if i % 2 == 0:\n",
    "            result += a[i]\n",
    "    return result        \n",
    "\n",
    "print(ood_char('abcdef'))  # Output: 'ace'\n"
   ]
  },
  {
   "cell_type": "code",
   "execution_count": 12,
   "id": "7a01f160-14b8-455e-963e-8640591e489d",
   "metadata": {},
   "outputs": [
    {
     "name": "stdout",
     "output_type": "stream",
     "text": [
      "{'the': 2, 'quick': 1, 'brown': 1, 'fox': 1, 'jumps': 1, 'over': 1, 'lazy': 1, 'dog.': 1}\n"
     ]
    }
   ],
   "source": [
    "#12. Count word occurrences in a sentence.\n",
    "    #Write a Python program to count the occurrences of each word in a given sentence.\n",
    "\n",
    "def word_count(sentence):\n",
    "\n",
    "    words = sentence.split()\n",
    "    word_count = {}\n",
    "    \n",
    "    for word in words:\n",
    "        if word in word_count:\n",
    "            word_count[word] += 1\n",
    "        else:\n",
    "            word_count[word] = 1\n",
    "    \n",
    "    return word_count\n",
    "\n",
    "print( word_count('the quick brown fox jumps over the lazy dog.'))\n",
    "\n",
    "\n",
    "# or \n",
    "# word_count = Counter(sentence.split())\n"
   ]
  },
  {
   "cell_type": "code",
   "execution_count": null,
   "id": "455de930-74b1-4540-899c-65e291254c47",
   "metadata": {},
   "outputs": [],
   "source": [
    "#13. Display input in upper and lower case.\n",
    "     # Write a Python script that takes input from the user and displays that input back in upper and lower cases.\n",
    "\n",
    "user_input = input(\"What's your favorite language? \")\n",
    "\n",
    "print(\"My favorite language is \", user_input.upper())\n",
    "print(\"My favorite language is \", user_input.lower()) \n"
   ]
  },
  {
   "cell_type": "code",
   "execution_count": null,
   "id": "5f0e1e0b-98b0-4008-9993-b2bdb3b60bf1",
   "metadata": {},
   "outputs": [],
   "source": [
    "# 14. Sort distinct words in comma-separated input.\n",
    "    # Write a Python program that accepts a comma-separated sequence of words as input and prints the distinct words in sorted form (alphanumerically).\n",
    "\n",
    "    # Sample Words : red, white, black, red, green, black\n",
    "    # Expected Result : black, green, red, white,red\n",
    "\n",
    "items = input(\"Input comma-separated sequence of words\")\n",
    "words = [word for word in items.split(\",\")]\n",
    "    \n",
    "print(\",\".join(sorted(list(set(words)))))\n"
   ]
  },
  {
   "cell_type": "code",
   "execution_count": null,
   "id": "b0d7bc24-9765-4ab7-b4ab-22b254fb4514",
   "metadata": {},
   "outputs": [
    {
     "name": "stdout",
     "output_type": "stream",
     "text": [
      "17\n"
     ]
    }
   ],
   "source": [
    "#15. Write a function that receives a string and returns its length.\n",
    "def name(a):\n",
    "    print(len(a))\n",
    "    \n",
    "name(\"Dumitru Cristache\")"
   ]
  },
  {
   "cell_type": "code",
   "execution_count": null,
   "id": "39ba8176-91ad-4b0b-a052-8d5112a2890d",
   "metadata": {},
   "outputs": [
    {
     "data": {
      "text/plain": [
       "'cris'"
      ]
     },
     "execution_count": 23,
     "metadata": {},
     "output_type": "execute_result"
    }
   ],
   "source": [
    "#16 Write a function that receives a string and returns the string with all lowercase characters (lower()).\n",
    "def lower_(a):\n",
    "    return a.lower()\n",
    "\n",
    "lower_('Cris')    "
   ]
  },
  {
   "cell_type": "code",
   "execution_count": null,
   "id": "10f4d9c4-7590-4637-9711-f1a3e7e88152",
   "metadata": {},
   "outputs": [
    {
     "data": {
      "text/plain": [
       "'CRIS'"
      ]
     },
     "execution_count": 22,
     "metadata": {},
     "output_type": "execute_result"
    }
   ],
   "source": [
    "#17 Write a function that receives a string and returns the string with all uppercase characters (upper()).\n",
    "def up_(a):\n",
    "    return a.upper()\n",
    "\n",
    "up_('Cris')  "
   ]
  },
  {
   "cell_type": "code",
   "execution_count": null,
   "id": "0972c35f-085b-4be8-897a-6e9ae32fea1b",
   "metadata": {},
   "outputs": [
    {
     "data": {
      "text/plain": [
       "'ad'"
      ]
     },
     "execution_count": 20,
     "metadata": {},
     "output_type": "execute_result"
    }
   ],
   "source": [
    "#18 Write a function that receives a string and returns only the first and last characters, concatenated.\n",
    "\n",
    "def test(a):\n",
    "    return a[:1] + a[-1]\n",
    "test('abcd')\n",
    "   "
   ]
  },
  {
   "cell_type": "code",
   "execution_count": null,
   "id": "0bbed91e-7f17-4918-a1ea-3417930f6c02",
   "metadata": {},
   "outputs": [
    {
     "data": {
      "text/plain": [
       "'b'"
      ]
     },
     "execution_count": 19,
     "metadata": {},
     "output_type": "execute_result"
    }
   ],
   "source": [
    "#19. Write a function that receives a string and returns the string without the first and last characters (uses slicing).\n",
    "\n",
    "def test_2(a):\n",
    "    return a[1:-1]\n",
    "test_2('abc')"
   ]
  },
  {
   "cell_type": "code",
   "execution_count": null,
   "id": "0a847442-6819-41be-8d5c-fcf72ffa3eaf",
   "metadata": {},
   "outputs": [
    {
     "data": {
      "text/plain": [
       "True"
      ]
     },
     "execution_count": 18,
     "metadata": {},
     "output_type": "execute_result"
    }
   ],
   "source": [
    "#20 Scrie o funcție care primește un string și returnează True dacă începe cu litera \"a\".\n",
    "\n",
    "def verificare(a):  \n",
    "    if a.upper().startswith('A') or a.lower().startswith('a') :\n",
    "        return True\n",
    "    return False       \n",
    "        \n",
    "verificare('Ana')"
   ]
  },
  {
   "cell_type": "code",
   "execution_count": null,
   "id": "7ed992f6-0ed3-4c57-a020-9b58013b61f4",
   "metadata": {},
   "outputs": [
    {
     "data": {
      "text/plain": [
       "True"
      ]
     },
     "execution_count": 17,
     "metadata": {},
     "output_type": "execute_result"
    }
   ],
   "source": [
    "#21 Write a function that takes a string and returns True if it ends with \"ing\".\n",
    "\n",
    "def verificare(a):  \n",
    "    if a.upper().endswith('Ing') or a.lower().endswith('ing') :\n",
    "        return True\n",
    "    return False       \n",
    "        \n",
    "verificare('Ing')\n",
    "verificare('ing')\n"
   ]
  },
  {
   "cell_type": "code",
   "execution_count": null,
   "id": "23147ae7-41ac-405c-b0d3-453dcb5cb57b",
   "metadata": {},
   "outputs": [],
   "source": [
    "#22 Write a function that receives a string and replaces all spaces with -.\n",
    "\n",
    "def change(a):\n",
    "    return a.replace(' ','-')\n",
    "\n",
    "change('Hello, how are you?')"
   ]
  },
  {
   "cell_type": "code",
   "execution_count": null,
   "id": "4305e469-8039-4092-8916-7cc724d0b1ac",
   "metadata": {},
   "outputs": [],
   "source": [
    "#23 Write a function that receives a string and returns how many times the letter \"e\" appears in the string.\n",
    "\n",
    "from collections import Counter\n",
    "def count_char(a):\n",
    "    return dict(Counter(a))\n",
    "    \n",
    "count_char('Ana are mere si mere are ana ')  \n"
   ]
  },
  {
   "cell_type": "code",
   "execution_count": null,
   "id": "a2d042df-3f7a-478a-a5cb-0cd66034bdb9",
   "metadata": {},
   "outputs": [
    {
     "data": {
      "text/plain": [
       "'cba'"
      ]
     },
     "execution_count": 8,
     "metadata": {},
     "output_type": "execute_result"
    }
   ],
   "source": [
    "#24. Write a function that receives a string and reverses it ([::-1]).\n",
    "def rev_char(a):\n",
    "    return a[::-1]\n",
    "rev_char('abc')    \n"
   ]
  },
  {
   "cell_type": "code",
   "execution_count": null,
   "id": "bbeff72f-a377-4af5-b05c-764558019af4",
   "metadata": {},
   "outputs": [
    {
     "data": {
      "text/plain": [
       "True"
      ]
     },
     "execution_count": 7,
     "metadata": {},
     "output_type": "execute_result"
    }
   ],
   "source": [
    "#25. Write a function that checks if a string is a palindrome (ex: 'ana', 'abcba').\n",
    "\n",
    "def pali(a):\n",
    "    rez = a[::-1]\n",
    "    if rez == a:\n",
    "        return True\n",
    "    return False \n",
    "pali('ana')"
   ]
  },
  {
   "cell_type": "code",
   "execution_count": null,
   "id": "b260255a-23eb-4403-9bdf-dab67e44ccff",
   "metadata": {},
   "outputs": [],
   "source": [
    "#26. Write a function that receives a string and returns the number of vowels.\n",
    "def vocale(a):\n",
    "    count = 0\n",
    "    for char in a.lower():\n",
    "        if char in 'aeiou':\n",
    "            count += 1\n",
    "    return count\n",
    "\n",
    "print(vocale('Hello, how are you?'))  "
   ]
  },
  {
   "cell_type": "code",
   "execution_count": null,
   "id": "1e71eabe-f830-4671-b9a8-bd9104360dec",
   "metadata": {},
   "outputs": [],
   "source": [
    "#27. Write a function that takes a string and returns the string with all characters in uppercase.\n",
    "\n",
    "def up(a):\n",
    "    \n",
    "    count = 0\n",
    "    for char in a:\n",
    "        if char.isupper():\n",
    "            count += 1\n",
    "    return count        \n",
    "print(up('Hello'))"
   ]
  },
  {
   "cell_type": "code",
   "execution_count": null,
   "id": "7cd0e3a3-233c-4fb1-a779-b80dffec0239",
   "metadata": {},
   "outputs": [],
   "source": [
    "#28. Write a function that replaces all occurrences of a given character with another.\n",
    "\n",
    "def change(a, old_char, new_char):\n",
    "    return a.replace(old_char, new_char)\n",
    "\n",
    "print(change('anaa', 'a', 'x'))  # Output: 'xnx'"
   ]
  },
  {
   "cell_type": "code",
   "execution_count": null,
   "id": "429dcad5-d651-4758-b4c9-2d0ee736069e",
   "metadata": {},
   "outputs": [],
   "source": [
    "#29. Write a function that checks if a string contains only digits.\n",
    "\n",
    "def type_d(a):\n",
    "    return a.isdigit()\n",
    "\n",
    "print(type_d('a32n'))   \n",
    "print(type_d('adsan'))  \n",
    "print(type_d('54654135'))  "
   ]
  },
  {
   "cell_type": "code",
   "execution_count": null,
   "id": "c16e82fe-ada2-4212-ab56-c18c46199c5e",
   "metadata": {},
   "outputs": [],
   "source": [
    "#30. Write a function that receives two strings and returns True if they have the same characters (regardless of order).\n",
    "\n",
    "def check_String(a, b):\n",
    "    return sorted(a) == sorted(b)\n",
    "\n",
    "print(check_String('ana', 'ana'))   \n",
    "print(check_String('ana', 'Fna'))   \n",
    "print(check_String('abc', 'cba'))  "
   ]
  },
  {
   "cell_type": "code",
   "execution_count": null,
   "id": "96eb880e-f8ea-4cc4-9101-34898f52bb7e",
   "metadata": {},
   "outputs": [],
   "source": [
    "#31. Write a function that returns all words that start with a capital letter in a string.\n",
    "\n",
    "def upper_check(a):\n",
    "    words = a.split()\n",
    "    result = [word for word in words if word[0].isupper()]\n",
    "    return result\n",
    "\n",
    "print(upper_check('Hello, my name is Adrian'))  "
   ]
  },
  {
   "cell_type": "code",
   "execution_count": null,
   "id": "b4d5af6f-8818-4734-9ed7-d4df6c645c6d",
   "metadata": {},
   "outputs": [],
   "source": [
    "#32. Write a function that removes all punctuation marks from a string.\n",
    "\n",
    "import string\n",
    "\n",
    "def remove_punctuation(text):\n",
    "    return ''.join(char for char in text if char not in string.punctuation)\n",
    "\n",
    "print(remove_punctuation(\"Hello, my name is Adrian!\"))  "
   ]
  },
  {
   "cell_type": "code",
   "execution_count": null,
   "id": "54fba458-14e5-4b4d-98d6-a98026baccb5",
   "metadata": {},
   "outputs": [],
   "source": [
    "#33. Write a function that returns the length of the longest word in a string.\n",
    "\n",
    "def max_length(text):\n",
    "    words = text.split()                         \n",
    "    lengths = [len(word) for word in words]     \n",
    "    return max(lengths)                          \n",
    "\n",
    "print(max_length(\"Hello\"))  # Output: 10\n"
   ]
  },
  {
   "cell_type": "code",
   "execution_count": null,
   "id": "63d27b59-7be3-4b66-b6d9-64af64b6b1e4",
   "metadata": {},
   "outputs": [],
   "source": [
    "#34. Write a function that extracts only the digits from a string and returns them as a string.\n",
    "\n",
    "def extract_digits(text):\n",
    "    result = ''\n",
    "    for char in text:\n",
    "        if char.isdigit():\n",
    "            result += char\n",
    "    return result\n",
    "\n",
    "print(extract_digits(\"Test 1 and test 2 \"))  # Output: '325'"
   ]
  }
 ],
 "metadata": {
  "kernelspec": {
   "display_name": "Python 3",
   "language": "python",
   "name": "python3"
  },
  "language_info": {
   "codemirror_mode": {
    "name": "ipython",
    "version": 3
   },
   "file_extension": ".py",
   "mimetype": "text/x-python",
   "name": "python",
   "nbconvert_exporter": "python",
   "pygments_lexer": "ipython3",
   "version": "3.13.2"
  }
 },
 "nbformat": 4,
 "nbformat_minor": 5
}
