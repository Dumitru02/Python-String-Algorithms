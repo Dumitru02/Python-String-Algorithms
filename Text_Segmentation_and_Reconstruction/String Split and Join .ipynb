{
 "cells": [
  {
   "cell_type": "code",
   "execution_count": null,
   "id": "8368dbe3-b99e-4c56-944b-83d71c972471",
   "metadata": {},
   "outputs": [
    {
     "name": "stdout",
     "output_type": "stream",
     "text": [
      "['123', 'Alice', '30', 'USA']\n"
     ]
    }
   ],
   "source": [
    "#1. Parsing CSV fields when delimiter is not comma\n",
    "row = \"123;Alice;30;USA\"\n",
    "fields = row.split(\";\")\n",
    "print(fields)  "
   ]
  },
  {
   "cell_type": "code",
   "execution_count": null,
   "id": "3c47d3d9-6855-46ab-aaed-9f369a99083b",
   "metadata": {},
   "outputs": [
    {
     "name": "stdout",
     "output_type": "stream",
     "text": [
      "example.com products/electronics\n"
     ]
    }
   ],
   "source": [
    "#2. Extracting domain and path from a URL\n",
    "\n",
    "url = \"https://example.com/products/electronics\"\n",
    "parts = url.split(\"/\", 3)\n",
    "print(parts[2], parts[3])  "
   ]
  },
  {
   "cell_type": "code",
   "execution_count": null,
   "id": "a7146833-f940-4835-8722-272a60f37657",
   "metadata": {},
   "outputs": [
    {
     "name": "stdout",
     "output_type": "stream",
     "text": [
      "{'id': '123', 'name': 'Alice', 'country': 'USA'}\n"
     ]
    }
   ],
   "source": [
    "3#. Breaking key-value pairs into dictionary\n",
    "\n",
    "query = \"id=123&name=Alice&country=USA\"\n",
    "params = dict(pair.split(\"=\") for pair in query.split(\"&\"))\n",
    "print(params)  \n"
   ]
  },
  {
   "cell_type": "code",
   "execution_count": null,
   "id": "e2a59dc0-182d-4650-a1eb-bc24adcb19ea",
   "metadata": {},
   "outputs": [
    {
     "name": "stdout",
     "output_type": "stream",
     "text": [
      "2025-08-12 10:20:00 ERROR Disk space low\n"
     ]
    }
   ],
   "source": [
    "#4. Parsing log entry into timestamp, level, and message\n",
    "\n",
    "log = \"2025-08-12 10:20:00 | ERROR | Disk space low\"\n",
    "timestamp, level, message = log.split(\" | \", 2)\n",
    "print(timestamp, level, message)  \n"
   ]
  },
  {
   "cell_type": "code",
   "execution_count": null,
   "id": "7badf68b-3d97-4f00-ba8c-5c94ac1e5456",
   "metadata": {},
   "outputs": [
    {
     "name": "stdout",
     "output_type": "stream",
     "text": [
      "name, age customers\n"
     ]
    }
   ],
   "source": [
    "#5. Extracting table and column names from SQL\n",
    "\n",
    "sql = \"SELECT name, age FROM customers WHERE age > 30\"\n",
    "parts = sql.split(\"FROM\")\n",
    "columns = parts[0].replace(\"SELECT\", \"\").strip()\n",
    "table = parts[1].split()[0]\n",
    "print(columns, table)  \n"
   ]
  },
  {
   "cell_type": "code",
   "execution_count": 8,
   "id": "b8518296-1417-4cfb-b013-ab978fd44f60",
   "metadata": {},
   "outputs": [],
   "source": [
    "# ----- rsplit() ----- "
   ]
  },
  {
   "cell_type": "code",
   "execution_count": null,
   "id": "13f7ad64-07ef-486b-a3a1-ffcf5e2213b0",
   "metadata": {},
   "outputs": [
    {
     "name": "stdout",
     "output_type": "stream",
     "text": [
      "report_2025_08_12 csv\n"
     ]
    }
   ],
   "source": [
    "#6. Extracting filename and extension\n",
    "\n",
    "filename = \"report_2025_08_12.csv\"\n",
    "name, ext = filename.rsplit(\".\", 1)\n",
    "print(name, ext)  "
   ]
  },
  {
   "cell_type": "code",
   "execution_count": null,
   "id": "f5c3bf4d-c67f-43a2-b876-ad1ebf2708de",
   "metadata": {},
   "outputs": [
    {
     "name": "stdout",
     "output_type": "stream",
     "text": [
      "US ['12000', '5000']\n"
     ]
    }
   ],
   "source": [
    "#7. Getting last N columns from a CSV line\n",
    "\n",
    "line = \"US,2025,08,12,12000,5000\"\n",
    "country, year, month, day, *rest = line.rsplit(\",\", 5)\n",
    "print(country, rest)  \n"
   ]
  },
  {
   "cell_type": "code",
   "execution_count": null,
   "id": "58dc7da0-c627-41f5-9a27-a8e2cf3bed11",
   "metadata": {},
   "outputs": [
    {
     "name": "stdout",
     "output_type": "stream",
     "text": [
      "/data/exports/2025/08 report.csv\n"
     ]
    }
   ],
   "source": [
    "#8. Extracting the last folder and filename from a path\n",
    "\n",
    "path = \"/data/exports/2025/08/report.csv\"\n",
    "folder, file = path.rsplit(\"/\", 1)\n",
    "print(folder, file)  \n"
   ]
  },
  {
   "cell_type": "code",
   "execution_count": null,
   "id": "3ae388e3-1609-46c1-b902-993d9ec9a6b0",
   "metadata": {},
   "outputs": [
    {
     "name": "stdout",
     "output_type": "stream",
     "text": [
      "John Michael Doe\n"
     ]
    }
   ],
   "source": [
    "#9. Splitting full name from last name only\n",
    "\n",
    "name = \"John Michael Doe\"\n",
    "first_names, last_name = name.rsplit(\" \", 1)\n",
    "print(first_names, last_name)  \n"
   ]
  },
  {
   "cell_type": "code",
   "execution_count": null,
   "id": "75f36bcd-52e5-4893-9c89-8cba826953c7",
   "metadata": {},
   "outputs": [
    {
     "name": "stdout",
     "output_type": "stream",
     "text": [
      "https://example.com/data?id=123&name=alice status=active\n"
     ]
    }
   ],
   "source": [
    "#10. Extracting last parameter from a query string\n",
    "\n",
    "url = \"https://example.com/data?id=123&name=alice&status=active\"\n",
    "base, last_param = url.rsplit(\"&\", 1)\n",
    "print(base, last_param)  \n"
   ]
  },
  {
   "cell_type": "code",
   "execution_count": 16,
   "id": "2a0b4d52-5f05-4c73-9e58-22768b240f20",
   "metadata": {},
   "outputs": [],
   "source": [
    "# ----- splitlines()  ---- "
   ]
  },
  {
   "cell_type": "code",
   "execution_count": null,
   "id": "7058f206-df9f-478b-9662-f39df7ded8cf",
   "metadata": {},
   "outputs": [
    {
     "name": "stdout",
     "output_type": "stream",
     "text": [
      "['ERROR file not found']\n"
     ]
    }
   ],
   "source": [
    "#11.  Processing multi-line log entries\n",
    "\n",
    "logs = \"INFO start\\nERROR file not found\\nWARNING low memory\"\n",
    "lines = logs.splitlines()\n",
    "print([l for l in lines if l.startswith(\"ERROR\")])  \n"
   ]
  },
  {
   "cell_type": "code",
   "execution_count": null,
   "id": "e3ac72f5-59bd-40de-9568-8d6292e10e07",
   "metadata": {},
   "outputs": [
    {
     "name": "stdout",
     "output_type": "stream",
     "text": [
      "4\n"
     ]
    }
   ],
   "source": [
    "#12. Counting number of lines in a file content\n",
    "\n",
    "content = \"id,name\\n1,Alice\\n2,Bob\\n3,Charlie\"\n",
    "num_lines = len(content.splitlines())\n",
    "print(num_lines)  \n"
   ]
  },
  {
   "cell_type": "code",
   "execution_count": null,
   "id": "3af441a1-3937-4378-b7b0-d464b698b5d8",
   "metadata": {},
   "outputs": [
    {
     "name": "stdout",
     "output_type": "stream",
     "text": [
      "id,name,age ['1,Alice,30', '2,Bob,25']\n"
     ]
    }
   ],
   "source": [
    "#13. Extracting header and data rows from CSV text\n",
    "\n",
    "csv_text = \"id,name,age\\n1,Alice,30\\n2,Bob,25\"\n",
    "header, *rows = csv_text.splitlines()\n",
    "print(header, rows)  \n"
   ]
  },
  {
   "cell_type": "code",
   "execution_count": null,
   "id": "e8209bb2-8e2b-48e9-a924-d1a6ff534833",
   "metadata": {},
   "outputs": [
    {
     "name": "stdout",
     "output_type": "stream",
     "text": [
      "['line1', 'line2', 'line3']\n"
     ]
    }
   ],
   "source": [
    "#14. Removing empty lines from text\n",
    "\n",
    "text = \"line1\\n\\nline2\\n\\nline3\"\n",
    "clean_lines = [l for l in text.splitlines() if l.strip()]\n",
    "print(clean_lines)  \n"
   ]
  },
  {
   "cell_type": "code",
   "execution_count": null,
   "id": "217cc4de-ce5c-4b35-a8b4-013fd8f6b552",
   "metadata": {},
   "outputs": [
    {
     "name": "stdout",
     "output_type": "stream",
     "text": [
      "{'user': 'admin', 'password': 'secret', 'host': 'localhost'}\n"
     ]
    }
   ],
   "source": [
    "#15. Parsing config file key-value pairs\n",
    "\n",
    "config_text = \"user=admin\\npassword=secret\\nhost=localhost\"\n",
    "config_dict = dict(line.split(\"=\") for line in config_text.splitlines())\n",
    "print(config_dict)  \n"
   ]
  },
  {
   "cell_type": "code",
   "execution_count": 26,
   "id": "a42cbd1a-1a97-4d13-b440-4ac856c8bcba",
   "metadata": {},
   "outputs": [],
   "source": [
    "# ----- join() --- "
   ]
  },
  {
   "cell_type": "code",
   "execution_count": null,
   "id": "ccdf12ae-f169-4ecd-8e92-a41fbb79890b",
   "metadata": {},
   "outputs": [
    {
     "name": "stdout",
     "output_type": "stream",
     "text": [
      "Alice,30,USA\n"
     ]
    }
   ],
   "source": [
    "#16. Creating a CSV line from a list\n",
    "\n",
    "fields = [\"Alice\", \"30\", \"USA\"]\n",
    "csv_line = \",\".join(fields)\n",
    "print(csv_line)  \n"
   ]
  },
  {
   "cell_type": "code",
   "execution_count": null,
   "id": "d86eb967-5357-4745-a9f3-890c809d3a31",
   "metadata": {},
   "outputs": [
    {
     "name": "stdout",
     "output_type": "stream",
     "text": [
      "https://example.com/products/electronics/phones\n"
     ]
    }
   ],
   "source": [
    "#17. Rebuilding a URL path\n",
    "\n",
    "parts = [\"https://example.com\", \"products\", \"electronics\", \"phones\"]\n",
    "url = \"/\".join(parts)\n",
    "print(url)  "
   ]
  },
  {
   "cell_type": "code",
   "execution_count": null,
   "id": "a7765301-d787-4630-81e9-9accbd5a0e68",
   "metadata": {},
   "outputs": [
    {
     "name": "stdout",
     "output_type": "stream",
     "text": [
      "age > 30 AND country = 'US' AND active = 1\n"
     ]
    }
   ],
   "source": [
    "#18.Merging multiple SQL conditions\n",
    "\n",
    "conditions = [\"age > 30\", \"country = 'US'\", \"active = 1\"]\n",
    "sql_where = \" AND \".join(conditions)\n",
    "print(sql_where)  \n"
   ]
  },
  {
   "cell_type": "code",
   "execution_count": 31,
   "id": "22c02be5-ca8b-463f-b03f-cf9bf8091a42",
   "metadata": {},
   "outputs": [
    {
     "name": "stdout",
     "output_type": "stream",
     "text": [
      "id,name,age\n",
      "1,Alice,30\n",
      "2,Bob,25\n"
     ]
    }
   ],
   "source": [
    "#19.Creating a multi-line string from a list\n",
    "\n",
    "lines = [\"id,name,age\", \"1,Alice,30\", \"2,Bob,25\"]\n",
    "text_block = \"\\n\".join(lines)\n",
    "print(text_block)\n"
   ]
  },
  {
   "cell_type": "code",
   "execution_count": null,
   "id": "122c0409-3e06-4bca-af04-7679812fce8a",
   "metadata": {},
   "outputs": [
    {
     "name": "stdout",
     "output_type": "stream",
     "text": [
      "data/2025/08/12/report.csv\n"
     ]
    }
   ],
   "source": [
    "#20. Building a file path from parts\n",
    "\n",
    "folders = [\"data\", \"2025\", \"08\", \"12\", \"report.csv\"]\n",
    "path = \"/\".join(folders)\n",
    "print(path)  \n"
   ]
  }
 ],
 "metadata": {
  "kernelspec": {
   "display_name": "Python 3 (ipykernel)",
   "language": "python",
   "name": "python3"
  },
  "language_info": {
   "codemirror_mode": {
    "name": "ipython",
    "version": 3
   },
   "file_extension": ".py",
   "mimetype": "text/x-python",
   "name": "python",
   "nbconvert_exporter": "python",
   "pygments_lexer": "ipython3",
   "version": "3.13.5"
  }
 },
 "nbformat": 4,
 "nbformat_minor": 5
}
