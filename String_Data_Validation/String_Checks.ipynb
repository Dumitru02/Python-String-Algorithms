{
 "cells": [
  {
   "cell_type": "code",
   "execution_count": 1,
   "id": "ea541e90-f5be-4df0-bf6a-0869d71fff94",
   "metadata": {},
   "outputs": [],
   "source": [
    "# --- isdigit() / isnumeric() --- "
   ]
  },
  {
   "cell_type": "code",
   "execution_count": 2,
   "id": "85f7d77e-1d8a-45d7-abc2-64a2849590c4",
   "metadata": {},
   "outputs": [
    {
     "name": "stdout",
     "output_type": "stream",
     "text": [
      "['12345', '67890']\n"
     ]
    }
   ],
   "source": [
    "#1. Validate that an ID column contains only numbers before database insert\n",
    "\n",
    "ids = [\"12345\", \"67890\", \"12a45\"]\n",
    "valid_ids = [i for i in ids if i.isdigit()]\n",
    "print(valid_ids)  \n",
    "\n"
   ]
  },
  {
   "cell_type": "code",
   "execution_count": 3,
   "id": "624753bc-cb63-4f7e-8828-9562d0156315",
   "metadata": {},
   "outputs": [
    {
     "name": "stdout",
     "output_type": "stream",
     "text": [
      "['1000', '200', '5000']\n"
     ]
    }
   ],
   "source": [
    "#2. Filter out corrupted numeric fields from CSV import\n",
    "\n",
    "rows = [\"1000\", \"200\", \"30O\", \"5000\"]  # 'O' instead of zero\n",
    "clean_rows = [r for r in rows if r.isdigit()]\n",
    "print(clean_rows)  \n",
    "\n",
    "\n"
   ]
  },
  {
   "cell_type": "code",
   "execution_count": 5,
   "id": "834bdb13-6102-4e72-85b1-61f4a413e3d0",
   "metadata": {},
   "outputs": [
    {
     "name": "stdout",
     "output_type": "stream",
     "text": [
      "[['12x', 'Charlie']]\n"
     ]
    }
   ],
   "source": [
    "#3. Detect columns that should be integers but contain text\n",
    "\n",
    "dataset = [[\"123\", \"Alice\"], [\"456\", \"Bob\"], [\"12x\", \"Charlie\"]]\n",
    "bad_rows = [row for row in dataset if not row[0].isdigit()]\n",
    "print(bad_rows)  \n",
    "\n"
   ]
  },
  {
   "cell_type": "code",
   "execution_count": 7,
   "id": "d9c12f8a-d0ba-4929-825a-b33d179a3e81",
   "metadata": {},
   "outputs": [
    {
     "name": "stdout",
     "output_type": "stream",
     "text": [
      "['2025', '1999']\n"
     ]
    }
   ],
   "source": [
    "#4.Validate year values before transforming into datetime\n",
    "\n",
    "years = [\"2025\", \"1999\", \"20A0\"]\n",
    "valid_years = [y for y in years if y.isdigit() and len(y) == 4]\n",
    "print(valid_years)  \n",
    "\n"
   ]
  },
  {
   "cell_type": "code",
   "execution_count": 9,
   "id": "dd597b9f-f564-46ba-a67c-6f78a9d61515",
   "metadata": {},
   "outputs": [
    {
     "name": "stdout",
     "output_type": "stream",
     "text": [
      "['12345', '54321']\n"
     ]
    }
   ],
   "source": [
    "#5. Filter numeric-only ZIP codes in an ETL process\n",
    "\n",
    "zips = [\"12345\", \"AB123\", \"54321\"]\n",
    "valid_zips = [z for z in zips if z.isdigit()]\n",
    "print(valid_zips)  \n"
   ]
  },
  {
   "cell_type": "code",
   "execution_count": 10,
   "id": "b7623d48-f556-41c3-a2fd-d02bfa71ba5e",
   "metadata": {},
   "outputs": [],
   "source": [
    "# ----- isalpha() ---- "
   ]
  },
  {
   "cell_type": "code",
   "execution_count": 11,
   "id": "0fb15285-a74c-4a48-b742-5b658955a32d",
   "metadata": {},
   "outputs": [
    {
     "name": "stdout",
     "output_type": "stream",
     "text": [
      "['Alice', 'Bob']\n"
     ]
    }
   ],
   "source": [
    "#6. Validate that a name column contains only letters (no digits or symbols)\n",
    "names = [\"Alice\", \"Bob\", \"John3\", \"Mary-Jane\"]\n",
    "valid_names = [n for n in names if n.isalpha()]\n",
    "print(valid_names)  \n"
   ]
  },
  {
   "cell_type": "code",
   "execution_count": 12,
   "id": "7941a523-8b26-4490-a709-83d6f320abe2",
   "metadata": {},
   "outputs": [
    {
     "name": "stdout",
     "output_type": "stream",
     "text": [
      "['US', 'GB']\n"
     ]
    }
   ],
   "source": [
    "#7. Filter country codes to ensure they are purely alphabetic\n",
    "\n",
    "codes = [\"US\", \"GB\", \"FR1\", \"U$\"]\n",
    "valid_codes = [c for c in codes if c.isalpha()]\n",
    "print(valid_codes)  \n",
    "\n"
   ]
  },
  {
   "cell_type": "code",
   "execution_count": 13,
   "id": "1ba1a0bc-5134-4909-a15a-6a6297bdee7f",
   "metadata": {},
   "outputs": [
    {
     "name": "stdout",
     "output_type": "stream",
     "text": [
      "['Books1']\n"
     ]
    }
   ],
   "source": [
    "#8. Detect invalid category labels before loading into a database\n",
    "\n",
    "categories = [\"Electronics\", \"Furniture\", \"Books1\", \"Toys\"]\n",
    "invalid = [c for c in categories if not c.isalpha()]\n",
    "print(invalid)  \n"
   ]
  },
  {
   "cell_type": "code",
   "execution_count": 14,
   "id": "1d4ceb71-6385-44cd-9589-c68c3aef038f",
   "metadata": {},
   "outputs": [
    {
     "name": "stdout",
     "output_type": "stream",
     "text": [
      "['Order', 'shipped', 'to', 'USA']\n"
     ]
    }
   ],
   "source": [
    "#9.  Extract only alphabetic tokens from free text\n",
    "\n",
    "text = \"Order 123 shipped to USA\"\n",
    "alpha_tokens = [t for t in text.split() if t.isalpha()]\n",
    "print(alpha_tokens)  \n",
    "\n"
   ]
  },
  {
   "cell_type": "code",
   "execution_count": 16,
   "id": "ec094317-a5b4-4d60-ac5e-a4a9538116a2",
   "metadata": {},
   "outputs": [
    {
     "name": "stdout",
     "output_type": "stream",
     "text": [
      "['London', 'Paris']\n"
     ]
    }
   ],
   "source": [
    "#10. Validate city names in an address dataset\n",
    "\n",
    "cities = [\"London\", \"Paris\", \"NewYork1\"]\n",
    "valid_cities = [c for c in cities if c.isalpha()]\n",
    "print(valid_cities)  \n",
    "\n"
   ]
  },
  {
   "cell_type": "code",
   "execution_count": 17,
   "id": "d4739b46-4c8f-41ea-a686-f22fbf5fa127",
   "metadata": {},
   "outputs": [],
   "source": [
    "# ----- isalnum() ---- "
   ]
  },
  {
   "cell_type": "code",
   "execution_count": 18,
   "id": "921a2197-656a-4a14-b45b-027afdeb0116",
   "metadata": {},
   "outputs": [
    {
     "name": "stdout",
     "output_type": "stream",
     "text": [
      "['AB123', '12345', 'A1B2C3']\n"
     ]
    }
   ],
   "source": [
    "#11. Validate customer IDs containing only letters and numbers\n",
    "\n",
    "ids = [\"AB123\", \"12345\", \"A1B2C3\", \"AB_123\"]\n",
    "valid_ids = [i for i in ids if i.isalnum()]\n",
    "print(valid_ids)  \n",
    "\n"
   ]
  },
  {
   "cell_type": "code",
   "execution_count": 20,
   "id": "01b60966-5b91-405a-b429-453c03fbbd3b",
   "metadata": {},
   "outputs": [
    {
     "name": "stdout",
     "output_type": "stream",
     "text": [
      "['john123', 'alice']\n"
     ]
    }
   ],
   "source": [
    "#12.  Filter out usernames with special characters\n",
    "\n",
    "usernames = [\"john123\", \"alice\", \"bob!\", \"mike_99\"]\n",
    "clean_usernames = [u for u in usernames if u.isalnum()]\n",
    "print(clean_usernames)  \n",
    "\n"
   ]
  },
  {
   "cell_type": "code",
   "execution_count": 22,
   "id": "aceb26e1-cbfd-4ded-9ce8-581f0e692af8",
   "metadata": {},
   "outputs": [
    {
     "name": "stdout",
     "output_type": "stream",
     "text": [
      "['P1234', 'Q5678']\n"
     ]
    }
   ],
   "source": [
    "#13. Detect invalid product codes before an API call\n",
    "\n",
    "products = [\"P1234\", \"Q5678\", \"R-9999\"]\n",
    "valid_products = [p for p in products if p.isalnum()]\n",
    "print(valid_products)  \n",
    "\n"
   ]
  },
  {
   "cell_type": "code",
   "execution_count": 24,
   "id": "134c3deb-c6dd-434e-94d0-f6a607df526e",
   "metadata": {},
   "outputs": [
    {
     "name": "stdout",
     "output_type": "stream",
     "text": [
      "['abc123', 'xyz', 'hello1']\n"
     ]
    }
   ],
   "source": [
    "#14. Check if all tokens in a dataset column are alphanumeric\n",
    "\n",
    "values = [\"abc123\", \"xyz\", \"test@\", \"hello1\"]\n",
    "valid_values = [v for v in values if v.isalnum()]\n",
    "print(valid_values)  \n",
    "\n"
   ]
  },
  {
   "cell_type": "code",
   "execution_count": 25,
   "id": "0eb01bcf-21a7-4498-ba0a-a7aaa34eccc9",
   "metadata": {},
   "outputs": [
    {
     "name": "stdout",
     "output_type": "stream",
     "text": [
      "['SN12345', 'SN67890']\n"
     ]
    }
   ],
   "source": [
    "#15. Validate serial numbers in manufacturing data\n",
    "\n",
    "serials = [\"SN12345\", \"SN67890\", \"SN 123\"]\n",
    "valid_serials = [s for s in serials if s.isalnum()]\n",
    "print(valid_serials)  \n",
    "\n"
   ]
  },
  {
   "cell_type": "code",
   "execution_count": 26,
   "id": "89dd9cf7-07b9-4ccd-bcb1-4eb55f64be9f",
   "metadata": {},
   "outputs": [],
   "source": [
    "# ---- isspace() --- "
   ]
  },
  {
   "cell_type": "code",
   "execution_count": 28,
   "id": "13ced9e4-8786-47af-8c92-4fbdedd87581",
   "metadata": {},
   "outputs": [
    {
     "name": "stdout",
     "output_type": "stream",
     "text": [
      "['   ', '\\t']\n"
     ]
    }
   ],
   "source": [
    "#16. Detect empty/blank rows in CSV content\n",
    "\n",
    "rows = [\"123,John,USA\", \"   \", \"\\t\", \"456,Alice,UK\"]\n",
    "blank_rows = [r for r in rows if r.isspace() or r == \"\"]\n",
    "print(blank_rows)  \n",
    "\n"
   ]
  },
  {
   "cell_type": "code",
   "execution_count": 29,
   "id": "a8c02524-6db1-41e8-8d6b-c7f1cd02f9f5",
   "metadata": {},
   "outputs": [
    {
     "name": "stdout",
     "output_type": "stream",
     "text": [
      "['data1', 'data2', 'data3']\n"
     ]
    }
   ],
   "source": [
    "#17. Skip whitespace-only lines when reading a text file\n",
    "\n",
    "text = \"data1\\n   \\ndata2\\n\\t\\ndata3\"\n",
    "lines = [l for l in text.splitlines() if not l.isspace()]\n",
    "print(lines)  \n",
    "\n"
   ]
  },
  {
   "cell_type": "code",
   "execution_count": 31,
   "id": "75926f6e-affc-4e64-9cd5-01f2af738a9b",
   "metadata": {},
   "outputs": [
    {
     "name": "stdout",
     "output_type": "stream",
     "text": [
      "True\n"
     ]
    }
   ],
   "source": [
    "#18. Identify whitespace padding in fixed-width text files\n",
    "\n",
    "field = \"     \"\n",
    "print(field.isspace())  \n",
    "\n"
   ]
  },
  {
   "cell_type": "code",
   "execution_count": 33,
   "id": "7e06f7f4-ef0c-4f75-b96e-11b9df914788",
   "metadata": {},
   "outputs": [
    {
     "name": "stdout",
     "output_type": "stream",
     "text": [
      "['value1', 'value2']\n"
     ]
    }
   ],
   "source": [
    "#19.Remove lines that contain only tabs/spaces before processing\n",
    "\n",
    "lines = [\"value1\", \"    \", \"\\t\\t\", \"value2\"]\n",
    "clean_lines = [l for l in lines if not l.isspace()]\n",
    "print(clean_lines)  \n",
    "\n"
   ]
  },
  {
   "cell_type": "code",
   "execution_count": 32,
   "id": "f697a369-89ce-4858-8948-d144886b113e",
   "metadata": {},
   "outputs": [
    {
     "name": "stdout",
     "output_type": "stream",
     "text": [
      "Field is blank\n"
     ]
    }
   ],
   "source": [
    "#20. Validate that an optional field is actually blank\n",
    "\n",
    "optional_field = \"   \"\n",
    "if optional_field.isspace():\n",
    "    print(\"Field is blank\")\n",
    "\n"
   ]
  }
 ],
 "metadata": {
  "kernelspec": {
   "display_name": "Python 3 (ipykernel)",
   "language": "python",
   "name": "python3"
  },
  "language_info": {
   "codemirror_mode": {
    "name": "ipython",
    "version": 3
   },
   "file_extension": ".py",
   "mimetype": "text/x-python",
   "name": "python",
   "nbconvert_exporter": "python",
   "pygments_lexer": "ipython3",
   "version": "3.13.5"
  }
 },
 "nbformat": 4,
 "nbformat_minor": 5
}
