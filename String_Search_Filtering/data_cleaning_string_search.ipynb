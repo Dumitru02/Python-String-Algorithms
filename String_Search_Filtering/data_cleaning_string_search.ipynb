{
 "cells": [
  {
   "cell_type": "code",
   "execution_count": null,
   "id": "2aee9055-69c9-4304-b1c7-3347220ed261",
   "metadata": {},
   "outputs": [
    {
     "name": "stdout",
     "output_type": "stream",
     "text": [
      "ERROR: Database connection failed\n"
     ]
    }
   ],
   "source": [
    "#1. Detecting the position of a substring in log files to extract the error message\n",
    "\n",
    "log = \"2025-08-12 10:15:30 ERROR: Database connection failed\"\n",
    "pos = log.find(\"ERROR\")\n",
    "if pos != -1:\n",
    "    error_msg = log[pos:]\n",
    "    print(error_msg)"
   ]
  },
  {
   "cell_type": "code",
   "execution_count": null,
   "id": "3cd4e35a-07cf-4cd2-947d-4d9bdf761f37",
   "metadata": {},
   "outputs": [
    {
     "name": "stdout",
     "output_type": "stream",
     "text": [
      "{\"id\": 123, \"value\": 456}\n"
     ]
    }
   ],
   "source": [
    "#2. Finding the start position of a JSON payload inside a corrupted string\n",
    "\n",
    "data_stream = \"HEADER###PAYLOAD### {\\\"id\\\": 123, \\\"value\\\": 456}\"\n",
    "pos = data_stream.find(\"{\")\n",
    "if pos != -1:\n",
    "    json_payload = data_stream[pos:]\n",
    "    print(json_payload)"
   ]
  },
  {
   "cell_type": "code",
   "execution_count": null,
   "id": "7518d65e-d0ca-421c-aea2-7dc24d916894",
   "metadata": {},
   "outputs": [
    {
     "name": "stdout",
     "output_type": "stream",
     "text": [
      "Column 'Country' exists in the CSV\n"
     ]
    }
   ],
   "source": [
    "#3. Checking if a CSV line contains a specific column name\n",
    "\n",
    "header = \"Name,Age,Country,Salary\"\n",
    "if header.find(\"Country\") != -1:\n",
    "    print(\"Column 'Country' exists in the CSV\")\n"
   ]
  },
  {
   "cell_type": "code",
   "execution_count": null,
   "id": "c5d3d287-ea62-478b-b272-c049f8fe9a09",
   "metadata": {},
   "outputs": [
    {
     "name": "stdout",
     "output_type": "stream",
     "text": [
      "example.com\n",
      "openai.com\n",
      "test.org\n"
     ]
    }
   ],
   "source": [
    "#4.  Locating the domain name in a list of URLs\n",
    "\n",
    "urls = [\"https://example.com/page1\", \"https://openai.com/blog\", \"http://test.org/info\"]\n",
    "for url in urls:\n",
    "    pos = url.find(\"//\")\n",
    "    domain = url[pos+2:] if pos != -1 else url\n",
    "    print(domain.split(\"/\")[0])"
   ]
  },
  {
   "cell_type": "code",
   "execution_count": null,
   "id": "82889db2-9fc5-4893-9ba2-b541cc793c6d",
   "metadata": {},
   "outputs": [
    {
     "name": "stdout",
     "output_type": "stream",
     "text": [
      "Secret123\n"
     ]
    }
   ],
   "source": [
    "#5. Extracting a value after a specific keyword in a configuration file\n",
    "\n",
    "config = \"user=admin\\npassword=Secret123\\ndb_name=production\"\n",
    "pos = config.find(\"password=\")\n",
    "if pos != -1:\n",
    "    password_value = config[pos+len(\"password=\"):].split(\"\\n\")[0]\n",
    "    print(password_value)\n"
   ]
  },
  {
   "cell_type": "code",
   "execution_count": null,
   "id": "83d6f7ca-b140-40c7-a9bd-188d05dfa6b0",
   "metadata": {},
   "outputs": [],
   "source": [
    "#   ----  rfind() -----"
   ]
  },
  {
   "cell_type": "code",
   "execution_count": null,
   "id": "8024926e-9368-41fb-babf-6f372b06fcd6",
   "metadata": {},
   "outputs": [
    {
     "name": "stdout",
     "output_type": "stream",
     "text": [
      "file.csv\n"
     ]
    }
   ],
   "source": [
    "#6. Finding the last occurrence of a delimiter in a file path\n",
    "\n",
    "path = \"/home/user/projects/data/file.csv\"\n",
    "pos = path.rfind(\"/\")\n",
    "filename = path[pos+1:]\n",
    "print(filename)"
   ]
  },
  {
   "cell_type": "code",
   "execution_count": null,
   "id": "1342572e-e9c1-4f7c-acb1-229200102582",
   "metadata": {},
   "outputs": [
    {
     "name": "stdout",
     "output_type": "stream",
     "text": [
      "uk\n"
     ]
    }
   ],
   "source": [
    "#7.  Extracting the last domain extension from an email\n",
    "\n",
    "email = \"john.doe@sub.company.co.uk\"\n",
    "pos = email.rfind(\".\")\n",
    "extension = email[pos+1:]\n",
    "print(extension)\n"
   ]
  },
  {
   "cell_type": "code",
   "execution_count": null,
   "id": "899efe0b-7482-439b-8e26-42a9d0c9d500",
   "metadata": {},
   "outputs": [
    {
     "name": "stdout",
     "output_type": "stream",
     "text": [
      "ERROR: permission denied\n"
     ]
    }
   ],
   "source": [
    "#8. Getting the last error message from a log\n",
    "\n",
    "log = \"INFO: start\\nERROR: file not found\\nINFO: retry\\nERROR: permission denied\"\n",
    "pos = log.rfind(\"ERROR\")\n",
    "last_error = log[pos:]\n",
    "print(last_error)\n"
   ]
  },
  {
   "cell_type": "code",
   "execution_count": null,
   "id": "cd06ec7b-98fa-4c56-8a2b-775dbd424345",
   "metadata": {},
   "outputs": [
    {
     "name": "stdout",
     "output_type": "stream",
     "text": [
      "status=active\n"
     ]
    }
   ],
   "source": [
    "#9.  Parsing the last key-value pair from a query string\n",
    "\n",
    "query = \"id=123&name=John&country=USA&status=active\"\n",
    "pos = query.rfind(\"&\")\n",
    "last_pair = query[pos+1:]\n",
    "print(last_pair)\n"
   ]
  },
  {
   "cell_type": "code",
   "execution_count": null,
   "id": "50d3596f-147b-4cb0-9d8d-a6f0725df517",
   "metadata": {},
   "outputs": [
    {
     "name": "stdout",
     "output_type": "stream",
     "text": [
      "processed\n"
     ]
    }
   ],
   "source": [
    "#10. Extracting the last folder name from a directory path\n",
    "\n",
    "directory = \"/data/2025/08/processed/\"\n",
    "pos = directory.rstrip(\"/\").rfind(\"/\")\n",
    "last_folder = directory[pos+1:].strip(\"/\")\n",
    "print(last_folder)"
   ]
  },
  {
   "cell_type": "code",
   "execution_count": 17,
   "id": "0289df32-b70d-4085-b26b-4949a8bf03a7",
   "metadata": {},
   "outputs": [],
   "source": [
    "# index() and rindex "
   ]
  },
  {
   "cell_type": "code",
   "execution_count": null,
   "id": "d846d356-5568-466f-a28b-24863b7b739f",
   "metadata": {},
   "outputs": [
    {
     "name": "stdout",
     "output_type": "stream",
     "text": [
      "user123\n"
     ]
    }
   ],
   "source": [
    "#11. Extracting username from email\n",
    "\n",
    "email = \"user123@example.com\"\n",
    "pos = email.index(\"@\")\n",
    "username = email[:pos]\n",
    "print(username)"
   ]
  },
  {
   "cell_type": "code",
   "execution_count": null,
   "id": "97f31315-c9f3-4e07-ba03-69b47784d3a3",
   "metadata": {},
   "outputs": [
    {
     "name": "stdout",
     "output_type": "stream",
     "text": [
      "https\n"
     ]
    }
   ],
   "source": [
    "#12. Validating and extracting a protocol from a URL\n",
    "\n",
    "url = \"https://data.server.com\"\n",
    "pos = url.index(\"://\")\n",
    "protocol = url[:pos]\n",
    "print(protocol)\n"
   ]
  },
  {
   "cell_type": "code",
   "execution_count": null,
   "id": "2148d81c-f87e-4773-98d2-fd3da4e47827",
   "metadata": {},
   "outputs": [
    {
     "name": "stdout",
     "output_type": "stream",
     "text": [
      "customers\n"
     ]
    }
   ],
   "source": [
    "#13. Getting the table name from an SQL query\n",
    "\n",
    "query = \"SELECT * FROM customers WHERE country='US'\"\n",
    "pos = query.index(\"FROM\") + len(\"FROM \")\n",
    "table_name = query[pos:].split()[0]\n",
    "print(table_name)\n"
   ]
  },
  {
   "cell_type": "code",
   "execution_count": null,
   "id": "4640557e-83d1-4c95-844f-dcb14b0131f7",
   "metadata": {},
   "outputs": [
    {
     "name": "stdout",
     "output_type": "stream",
     "text": [
      "div\n"
     ]
    }
   ],
   "source": [
    "#14. Extracting the first tag in an HTML string\n",
    "\n",
    "html = \"<div><p>Hello</p></div>\"\n",
    "pos_start = html.index(\"<\")\n",
    "pos_end = html.index(\">\")\n",
    "first_tag = html[pos_start+1:pos_end]\n",
    "print(first_tag)\n"
   ]
  },
  {
   "cell_type": "code",
   "execution_count": null,
   "id": "2c261ceb-aa0d-4265-8d3d-a5114eb5c9d2",
   "metadata": {},
   "outputs": [
    {
     "name": "stdout",
     "output_type": "stream",
     "text": [
      "2025-08-12 10:15:30\n"
     ]
    }
   ],
   "source": [
    "#15. Getting the date from a log line\n",
    "\n",
    "log = \"[2025-08-12 10:15:30] INFO: process started\"\n",
    "start = log.index(\"[\") + 1\n",
    "end = log.index(\"]\")\n",
    "date_str = log[start:end]\n",
    "print(date_str)\n"
   ]
  },
  {
   "cell_type": "code",
   "execution_count": null,
   "id": "7746d66d-e91d-4774-a77e-2963281df99b",
   "metadata": {},
   "outputs": [
    {
     "name": "stdout",
     "output_type": "stream",
     "text": [
      "august\n"
     ]
    }
   ],
   "source": [
    "#16. Getting the last folder in a path\n",
    "\n",
    "path = \"/data/exports/2025/august/\"\n",
    "pos = path.rstrip(\"/\").rindex(\"/\")\n",
    "last_folder = path[pos+1:].strip(\"/\")\n",
    "print(last_folder)\n"
   ]
  },
  {
   "cell_type": "code",
   "execution_count": null,
   "id": "f7b3d9c4-fbf5-4edb-aee0-470c9f324756",
   "metadata": {},
   "outputs": [
    {
     "name": "stdout",
     "output_type": "stream",
     "text": [
      "csv\n"
     ]
    }
   ],
   "source": [
    "#17.Extracting file extension from a URL with query params\n",
    "\n",
    "url = \"https://example.com/report/data.csv?version=2\"\n",
    "pos = url.rindex(\".\")\n",
    "extension = url[pos+1:].split(\"?\")[0]\n",
    "print(extension)"
   ]
  },
  {
   "cell_type": "code",
   "execution_count": null,
   "id": "a39a7dbb-a1ce-4116-8d62-232e0f183b07",
   "metadata": {},
   "outputs": [
    {
     "name": "stdout",
     "output_type": "stream",
     "text": [
      "salary\n"
     ]
    }
   ],
   "source": [
    "#18. Getting the last column from a CSV header\n",
    "\n",
    "header = \"id,name,age,country,salary\"\n",
    "pos = header.rindex(\",\")\n",
    "last_col = header[pos+1:]\n",
    "print(last_col)\n"
   ]
  },
  {
   "cell_type": "code",
   "execution_count": null,
   "id": "818e09ae-cd83-4af3-a834-4da6aa338bd6",
   "metadata": {},
   "outputs": [
    {
     "name": "stdout",
     "output_type": "stream",
     "text": [
      "active\n"
     ]
    }
   ],
   "source": [
    "#19.Extracting last key-value pair from JSON-like text\n",
    "\n",
    "text = '{\"id\":1,\"name\":\"John\",\"status\":\"active\"}'\n",
    "pos = text.rindex(\":\")\n",
    "last_value = text[pos+1:].strip('\"} ')\n",
    "print(last_value)\n"
   ]
  },
  {
   "cell_type": "code",
   "execution_count": null,
   "id": "a51a9892-ecaa-48c8-9a38-8bc9680eb35a",
   "metadata": {},
   "outputs": [
    {
     "name": "stdout",
     "output_type": "stream",
     "text": [
      "ERROR: timeout\n"
     ]
    }
   ],
   "source": [
    "#20. Finding the last error in a multi-line log\n",
    "\n",
    "log = \"INFO: ok\\nERROR: missing file\\nINFO: retry\\nERROR: timeout\"\n",
    "pos = log.rindex(\"ERROR\")\n",
    "last_error = log[pos:]\n",
    "print(last_error)\n"
   ]
  },
  {
   "cell_type": "code",
   "execution_count": null,
   "id": "dfeb5784-e71a-4b0c-ae0c-ceaa90d398b4",
   "metadata": {},
   "outputs": [],
   "source": [
    "# ----- startswith() ----"
   ]
  },
  {
   "cell_type": "code",
   "execution_count": null,
   "id": "72d8682b-c10b-4ad0-8d1a-dc1c2578800e",
   "metadata": {},
   "outputs": [
    {
     "name": "stdout",
     "output_type": "stream",
     "text": [
      "['EU_sales_2025.csv', 'US_sales_2025.csv']\n"
     ]
    }
   ],
   "source": [
    "#21. Filtering region-specific files for a sales ETL pipeline\n",
    "\n",
    "files = [\"EU_sales_2025.csv\", \"US_sales_2025.csv\", \"APAC_sales_2025.csv\", \"README.md\"]\n",
    "target_files = [f for f in files if f.startswith((\"EU_\", \"US_\")) and f.endswith(\".csv\")]\n",
    "print(target_files)\n"
   ]
  },
  {
   "cell_type": "code",
   "execution_count": null,
   "id": "f961cca3-5e87-4a6e-afbe-5fabe4e401c1",
   "metadata": {},
   "outputs": [
    {
     "name": "stdout",
     "output_type": "stream",
     "text": [
      "['https://example.com/data', 'http://data.myorg.org/api']\n",
      "['example.com', 'data.myorg.org']\n"
     ]
    }
   ],
   "source": [
    "#22. Validating URL schemes and extracting domains\n",
    "\n",
    "urls = [\"https://example.com/data\", \"http://data.myorg.org/api\", \"ftp://legacy.org/file\"]\n",
    "valid_urls = [u for u in urls if u.startswith((\"http://\", \"https://\"))]\n",
    "domains = [u.split(\"://\", 1)[1].split(\"/\", 1)[0] for u in valid_urls]\n",
    "print(valid_urls)\n",
    "print(domains)\n"
   ]
  },
  {
   "cell_type": "code",
   "execution_count": null,
   "id": "bb9b6fac-de79-49fb-9aca-ef4753b8f618",
   "metadata": {},
   "outputs": [
    {
     "name": "stdout",
     "output_type": "stream",
     "text": [
      "ERROR\n"
     ]
    }
   ],
   "source": [
    "#23. Detecting log severity after timestamp\n",
    "\n",
    "log = \"[2025-08-12 10:17:52] ERROR Disk space low\"\n",
    "msg_start = log.find(\"]\") + 2  # position after \"] \"\n",
    "if log.startswith(\"ERROR\", msg_start) or log.startswith(\"WARNING\", msg_start):\n",
    "    severity = log[msg_start:].split()[0]\n",
    "    print(severity)\n"
   ]
  },
  {
   "cell_type": "code",
   "execution_count": null,
   "id": "f051f8f0-4d3c-4278-b7ea-c4d779adacce",
   "metadata": {},
   "outputs": [
    {
     "name": "stdout",
     "output_type": "stream",
     "text": [
      "id,name,amount True\n"
     ]
    }
   ],
   "source": [
    "#24. Handling BOM in CSV headers and validating column name\n",
    "\n",
    "header = \"\\ufeffid,name,amount\"\n",
    "if header.startswith((\"\\ufeffid\", \"id\")):\n",
    "    clean_header = header.lstrip(\"\\ufeff\")\n",
    "    has_amount_col = clean_header.split(\",\")[2].startswith(\"amount\")\n",
    "    print(clean_header, has_amount_col)\n"
   ]
  },
  {
   "cell_type": "code",
   "execution_count": null,
   "id": "0980b4fa-76bc-4239-b95b-621ac3049f34",
   "metadata": {},
   "outputs": [
    {
     "name": "stdout",
     "output_type": "stream",
     "text": [
      "['2025/08/12/sales_eu.parquet']\n"
     ]
    }
   ],
   "source": [
    "#25. Selecting S3 keys based on a date prefix\n",
    "\n",
    "keys = [\n",
    "    \"2025/08/12/sales_eu.parquet\",\n",
    "    \"2025/08/11/sales_us.parquet\",\n",
    "    \"2025/07/31/archive.parquet\",\n",
    "    \"misc/readme.txt\",\n",
    "]\n",
    "year, month, day = 2025, 8, 12\n",
    "prefix = f\"{year}/{month:02d}/{day:02d}/\"\n",
    "todays_files = [k for k in keys if k.startswith(prefix)]\n",
    "print(todays_files)\n"
   ]
  },
  {
   "cell_type": "code",
   "execution_count": 43,
   "id": "8ba4def3-fbe3-4efc-8516-dddbdd1204f2",
   "metadata": {},
   "outputs": [],
   "source": [
    "# ---- endswith() --- "
   ]
  },
  {
   "cell_type": "code",
   "execution_count": null,
   "id": "5f5257bc-db73-4e27-8c24-b7070dc3026b",
   "metadata": {},
   "outputs": [
    {
     "name": "stdout",
     "output_type": "stream",
     "text": [
      "['sales_2025.csv', 'data_2025.parquet']\n"
     ]
    }
   ],
   "source": [
    "#26. Filtering only CSV and Parquet files for ETL ingestion\n",
    "\n",
    "files = [\"sales_2025.csv\", \"data_2025.parquet\", \"report_2024.xlsx\", \"notes.txt\"]\n",
    "valid_files = [f for f in files if f.endswith((\".csv\", \".parquet\"))]\n",
    "print(valid_files)"
   ]
  },
  {
   "cell_type": "code",
   "execution_count": null,
   "id": "29722ae0-1b44-4867-a933-d9f9563de06f",
   "metadata": {},
   "outputs": [
    {
     "name": "stdout",
     "output_type": "stream",
     "text": [
      "['https://cdn.example.com/image1.jpg', 'https://cdn.example.com/banner.png']\n"
     ]
    }
   ],
   "source": [
    "#27. Validating if URLs point to image resources\n",
    "\n",
    "urls = [\n",
    "    \"https://cdn.example.com/image1.jpg\",\n",
    "    \"https://cdn.example.com/banner.png\",\n",
    "    \"https://example.com/data.csv\"\n",
    "]\n",
    "image_urls = [u for u in urls if u.endswith((\".jpg\", \".jpeg\", \".png\", \".gif\"))]\n",
    "print(image_urls)\n"
   ]
  },
  {
   "cell_type": "code",
   "execution_count": null,
   "id": "d77cc9af-195d-4925-8be9-376510145e1b",
   "metadata": {},
   "outputs": [
    {
     "name": "stdout",
     "output_type": "stream",
     "text": [
      "['2025-08-12 10:16:10 failed with code 500', '2025-08-12 10:17:00 failed with code 404']\n"
     ]
    }
   ],
   "source": [
    "#28. Checking if log lines end with an error code\n",
    "\n",
    "logs = [\n",
    "    \"2025-08-12 10:15:30 process completed OK\",\n",
    "    \"2025-08-12 10:16:10 failed with code 500\",\n",
    "    \"2025-08-12 10:17:00 failed with code 404\"\n",
    "]\n",
    "error_logs = [l for l in logs if l.endswith((\"500\", \"404\"))]\n",
    "print(error_logs)\n"
   ]
  },
  {
   "cell_type": "code",
   "execution_count": null,
   "id": "7b683e70-8d98-4c21-a669-969f6dd0e5f4",
   "metadata": {},
   "outputs": [
    {
     "name": "stdout",
     "output_type": "stream",
     "text": [
      "['db_backup_2025-08-12.bak', 'db_backup_2025-08-11.bak']\n"
     ]
    }
   ],
   "source": [
    "#29. Selecting backup files from a directory listing\n",
    "\n",
    "files = [\"db_backup_2025-08-12.bak\", \"db_schema.sql\", \"readme.md\", \"db_backup_2025-08-11.bak\"]\n",
    "backups = [f for f in files if f.endswith(\".bak\")]\n",
    "print(backups)\n"
   ]
  },
  {
   "cell_type": "code",
   "execution_count": null,
   "id": "20a0db3c-341c-4d07-9294-98b673377ee6",
   "metadata": {},
   "outputs": [
    {
     "name": "stdout",
     "output_type": "stream",
     "text": [
      "['/api/v1/users.json', '/api/v1/products.json?limit=100']\n"
     ]
    }
   ],
   "source": [
    "#30. Filtering API endpoints that return JSON\n",
    "\n",
    "endpoints = [\n",
    "    \"/api/v1/users.json\",\n",
    "    \"/api/v1/orders.xml\",\n",
    "    \"/api/v1/products.json?limit=100\"\n",
    "]\n",
    "json_endpoints = [e for e in endpoints if e.split(\"?\")[0].endswith(\".json\")]\n",
    "print(json_endpoints)\n"
   ]
  },
  {
   "cell_type": "code",
   "execution_count": null,
   "id": "01e3679c-826d-43cb-921a-9be6c3ae986d",
   "metadata": {},
   "outputs": [],
   "source": [
    "# ---- count() --- "
   ]
  },
  {
   "cell_type": "code",
   "execution_count": 53,
   "id": "aafc96e3-ffe8-4ffd-a331-6d848991b9b4",
   "metadata": {},
   "outputs": [
    {
     "name": "stdout",
     "output_type": "stream",
     "text": [
      ";\n"
     ]
    }
   ],
   "source": [
    "#31. Auto-detecting the delimiter in a header line\n",
    "\n",
    "header = \"id;name;amount;country\"\n",
    "candidates = [\",\", \";\", \"\\t\", \"|\"]\n",
    "best = max(candidates, key=lambda d: header.count(d))\n",
    "print(best)  # ';'\n"
   ]
  },
  {
   "cell_type": "code",
   "execution_count": null,
   "id": "f4f41362-2852-48cc-8123-13aaf5ff0833",
   "metadata": {},
   "outputs": [
    {
     "name": "stdout",
     "output_type": "stream",
     "text": [
      "False\n"
     ]
    }
   ],
   "source": [
    "#32. Validating CSV row integrity (field count + balanced quotes)\n",
    "\n",
    "header = \"id,name,amount,country\"\n",
    "row    = '123,\"Alice, M.\",100,USA'\n",
    "\n",
    "expected_fields = header.count(\",\") + 1\n",
    "has_balanced_quotes = row.count('\"') % 2 == 0\n",
    "is_valid = (row.count(\",\") + 1 == expected_fields) and has_balanced_quotes\n",
    "print(is_valid)  # True"
   ]
  },
  {
   "cell_type": "code",
   "execution_count": null,
   "id": "62e685f7-5be8-4f4c-9155-32c0cf47f8b0",
   "metadata": {},
   "outputs": [
    {
     "name": "stdout",
     "output_type": "stream",
     "text": [
      "2\n"
     ]
    }
   ],
   "source": [
    "#33. Counting ERRORs only in the message portion of a log line\n",
    "\n",
    "log = \"[2025-08-12 10:18:00] ERROR Disk full. ERROR Retrying. INFO done.\"\n",
    "msg_start = log.find(\"]\") + 2  # position after \"] \"\n",
    "err_in_msg = log.count(\"ERROR\", msg_start)\n",
    "print(err_in_msg)  \n"
   ]
  },
  {
   "cell_type": "code",
   "execution_count": 58,
   "id": "f6423a65-1629-4a73-985d-c98e23f86590",
   "metadata": {},
   "outputs": [
    {
     "name": "stdout",
     "output_type": "stream",
     "text": [
      "True\n"
     ]
    }
   ],
   "source": [
    "#34. Quick JSON-like balance check using brace counts\n",
    "\n",
    "snippet = '{\"id\": 1, \"tags\": [\"a\", \"b\"], \"meta\": {\"ok\": true}}'\n",
    "balanced = snippet.count(\"{\") == snippet.count(\"}\") and snippet.count(\"[\") == snippet.count(\"]\")\n",
    "print(balanced)  \n"
   ]
  },
  {
   "cell_type": "code",
   "execution_count": null,
   "id": "4c377b29-bf08-4e1d-bba6-de2f2c804c93",
   "metadata": {},
   "outputs": [
    {
     "name": "stdout",
     "output_type": "stream",
     "text": [
      "3 ['john.doe@example.com', 'ops@company.org', 'admin@example.com']\n"
     ]
    }
   ],
   "source": [
    "#35.Estimating email occurrences in free text (lightweight heuristic)\n",
    "\n",
    "text = \"Contact john.doe@example.com, ops@company.org and admin@example.com.\"\n",
    "tokens = [t.strip(\",.;:\") for t in text.split()]\n",
    "email_like = [t for t in tokens if t.count(\"@\") == 1 and \".\" in t.split(\"@\")[1]]\n",
    "print(len(email_like), email_like)\n"
   ]
  }
 ],
 "metadata": {
  "kernelspec": {
   "display_name": "Python 3 (ipykernel)",
   "language": "python",
   "name": "python3"
  },
  "language_info": {
   "codemirror_mode": {
    "name": "ipython",
    "version": 3
   },
   "file_extension": ".py",
   "mimetype": "text/x-python",
   "name": "python",
   "nbconvert_exporter": "python",
   "pygments_lexer": "ipython3",
   "version": "3.13.5"
  }
 },
 "nbformat": 4,
 "nbformat_minor": 5
}
