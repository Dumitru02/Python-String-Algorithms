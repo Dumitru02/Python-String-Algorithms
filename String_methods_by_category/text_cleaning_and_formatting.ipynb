{
 "cells": [
  {
   "cell_type": "code",
   "execution_count": null,
   "id": "2ca6f3df-0a62-49a9-97f7-449e57f56284",
   "metadata": {},
   "outputs": [
    {
     "name": "stdout",
     "output_type": "stream",
     "text": [
      "cristache.adrian@example.com\n"
     ]
    }
   ],
   "source": [
    "#1. Standardize emails to avoid capitalization difference\n",
    "email = \"cristache.Adrian@Example.COM\"\n",
    "normalized_email = email.lower()\n",
    "print(normalized_email)\n"
   ]
  },
  {
   "cell_type": "code",
   "execution_count": 3,
   "id": "a7ec04e1-18ca-4f8b-a2f3-a0d6b6e19131",
   "metadata": {},
   "outputs": [
    {
     "name": "stdout",
     "output_type": "stream",
     "text": [
      "Match found\n"
     ]
    }
   ],
   "source": [
    "#2. Comparing values in a list without regard to case\n",
    "\n",
    "country = \"Romania\"\n",
    "if country.lower() == \"romania\":\n",
    "    print(\"Match found\")\n"
   ]
  },
  {
   "cell_type": "code",
   "execution_count": null,
   "id": "50f8fbc3-37e8-4276-9bef-a1b9f063f894",
   "metadata": {},
   "outputs": [
    {
     "name": "stdout",
     "output_type": "stream",
     "text": [
      "['alice', 'bob', 'charlie']\n"
     ]
    }
   ],
   "source": [
    "#3. Cleaning data from a CSV column before loading into DB\n",
    "\n",
    "names = [\"ALICE\", \"Bob\", \"CHARLIE\"]\n",
    "clean_names = [name.lower() for name in names]\n",
    "print(clean_names)\n"
   ]
  },
  {
   "cell_type": "code",
   "execution_count": 5,
   "id": "6205cf43-6598-494f-921f-523a794c2867",
   "metadata": {},
   "outputs": [
    {
     "name": "stdout",
     "output_type": "stream",
     "text": [
      "Error detected in log\n"
     ]
    }
   ],
   "source": [
    "#4. Processing mixed-text logs for uniform search\n",
    "\n",
    "log_entry = \"ERROR: Disk Space Low\"\n",
    "if \"error\" in log_entry.lower():\n",
    "    print(\"Error detected in log\")\n"
   ]
  },
  {
   "cell_type": "code",
   "execution_count": null,
   "id": "ee96e3cf-f434-468d-b13c-3e77accfa319",
   "metadata": {},
   "outputs": [
    {
     "name": "stdout",
     "output_type": "stream",
     "text": [
      "customer_id_123\n"
     ]
    }
   ],
   "source": [
    "#5. Creating case-insensitive unique keys\n",
    "\n",
    "raw_key = \"Customer_ID_123\"\n",
    "db_key = raw_key.lower()\n",
    "print(db_key)\n"
   ]
  },
  {
   "cell_type": "code",
   "execution_count": null,
   "id": "17001aa9-445e-440b-9467-b79072680676",
   "metadata": {},
   "outputs": [
    {
     "name": "stdout",
     "output_type": "stream",
     "text": [
      "['ROM', 'FRA', 'GER']\n"
     ]
    }
   ],
   "source": [
    "#6. Generating uppercase country codes for standardized reporting\n",
    "\n",
    "country_names = [\"Romania\", \"france\", \"germany\"]\n",
    "country_codes = [name[:3].upper() for name in country_names]\n",
    "print(country_codes)"
   ]
  },
  {
   "cell_type": "code",
   "execution_count": null,
   "id": "860e63dc-bd96-498a-a807-a5e6d1de5598",
   "metadata": {},
   "outputs": [
    {
     "name": "stdout",
     "output_type": "stream",
     "text": [
      "['ABC-123', 'DEF-456', 'GHI-789']\n"
     ]
    }
   ],
   "source": [
    "#7. Normalizing product SKUs before matching with an external API\n",
    "\n",
    "skus_from_db = [\"abc-123\", \"def-456\", \"ghi-789\"]\n",
    "normalized_skus = [sku.upper() for sku in skus_from_db]\n",
    "print(normalized_skus)\n"
   ]
  },
  {
   "cell_type": "code",
   "execution_count": null,
   "id": "7b350e52-fa5a-4952-aa9f-208b9c7e17a7",
   "metadata": {},
   "outputs": [
    {
     "name": "stdout",
     "output_type": "stream",
     "text": [
      "customer_id AS CUSTOMER_ID, order_date AS ORDER_DATE, total_amount AS TOTAL_AMOUNT\n"
     ]
    }
   ],
   "source": [
    "#8. Creating uppercase SQL column aliases for consistency\n",
    "\n",
    "columns = [\"customer_id\", \"order_date\", \"total_amount\"]\n",
    "sql_select = \", \".join([f\"{col} AS {col.upper()}\" for col in columns])\n",
    "print(sql_select)\n"
   ]
  },
  {
   "cell_type": "code",
   "execution_count": null,
   "id": "e7c5c8c8-7d92-401f-ac9e-6024d530e10b",
   "metadata": {},
   "outputs": [
    {
     "name": "stdout",
     "output_type": "stream",
     "text": [
      "['[ERROR] Disk full', '[WARNING] Memory usage high']\n"
     ]
    }
   ],
   "source": [
    "#9.Tagging log entries with uppercase severity levels\n",
    "log_entries = [\n",
    "    {\"level\": \"error\", \"message\": \"Disk full\"},\n",
    "    {\"level\": \"warning\", \"message\": \"Memory usage high\"},\n",
    "]\n",
    "tagged_logs = [f\"[{entry['level'].upper()}] {entry['message']}\" for entry in log_entries]\n",
    "print(tagged_logs)\n"
   ]
  },
  {
   "cell_type": "code",
   "execution_count": null,
   "id": "abf30f95-70da-4ed5-829d-bb1ba0a6abc9",
   "metadata": {},
   "outputs": [
    {
     "name": "stdout",
     "output_type": "stream",
     "text": [
      "['AB125', 'AB123', 'AB124']\n"
     ]
    }
   ],
   "source": [
    "#10. Creating uppercase identifiers for deduplication in ETL pipelines\n",
    "\n",
    "raw_ids = [\"ab123\", \"Ab123\", \"AB124\", \"ab125\"]\n",
    "unique_ids = list(set([id.upper() for id in raw_ids]))\n",
    "print(unique_ids)\n"
   ]
  },
  {
   "cell_type": "code",
   "execution_count": 1,
   "id": "71f2d818-972e-4ec9-ac2a-5c12aa84e288",
   "metadata": {},
   "outputs": [
    {
     "name": "stdout",
     "output_type": "stream",
     "text": [
      "['John', 'Mary', 'Alex']\n"
     ]
    }
   ],
   "source": [
    "#10. Formatting customer names imported from inconsistent data sources\n",
    "\n",
    "raw_names = [\"jOHn\", \"MARY\", \"alEX\"]\n",
    "formatted_names = [name.capitalize() for name in raw_names]\n",
    "print(formatted_names)\n"
   ]
  },
  {
   "cell_type": "code",
   "execution_count": null,
   "id": "04d6557d-2c9d-44c8-abe2-e548c1865ada",
   "metadata": {},
   "outputs": [
    {
     "name": "stdout",
     "output_type": "stream",
     "text": [
      "['Electronics', 'Furniture', 'Home appliances']\n"
     ]
    }
   ],
   "source": [
    "#11. Standardizing product category labels for reporting\n",
    "\n",
    "categories = [\"electronics\", \"FURNITURE\", \"home appliances\"]\n",
    "standardized_categories = [cat.capitalize() for cat in categories]\n",
    "print(standardized_categories)\n"
   ]
  },
  {
   "cell_type": "code",
   "execution_count": null,
   "id": "b06051e5-05bf-44ae-a24d-dd3c72a0ad61",
   "metadata": {},
   "outputs": [
    {
     "name": "stdout",
     "output_type": "stream",
     "text": [
      "['Bucharest', 'Cluj-napoca', 'Iasi']\n"
     ]
    }
   ],
   "source": [
    "#12. Cleaning and formatting city names from a CSV before geocoding\n",
    "\n",
    "city_data = [\"BUCHAREST\", \"cluj-napoca\", \"IaSi\"]\n",
    "clean_cities = [city.capitalize() for city in city_data]\n",
    "print(clean_cities)\n"
   ]
  },
  {
   "cell_type": "code",
   "execution_count": null,
   "id": "3c55e522-1ba4-4b84-8eec-1893793e4988",
   "metadata": {},
   "outputs": [
    {
     "name": "stdout",
     "output_type": "stream",
     "text": [
      "['Total revenue', 'Average profit', 'Net loss']\n"
     ]
    }
   ],
   "source": [
    "#13. Creating properly capitalized labels in an ETL output file\n",
    "\n",
    "labels = [\"total revenue\", \"average profit\", \"net loss\"]\n",
    "output_labels = [label.capitalize() for label in labels]\n",
    "print(output_labels)\n"
   ]
  },
  {
   "cell_type": "code",
   "execution_count": null,
   "id": "b2186646-7704-442f-9f5c-3e97c66700b4",
   "metadata": {},
   "outputs": [
    {
     "name": "stdout",
     "output_type": "stream",
     "text": [
      "['Success', 'Failed', 'Pending']\n"
     ]
    }
   ],
   "source": [
    "#14. Formatting API responses for display in dashboards\n",
    "\n",
    "api_responses = [\"success\", \"FAILED\", \"pending\"]\n",
    "formatted_status = [status.capitalize() for status in api_responses]\n",
    "print(formatted_status)\n"
   ]
  },
  {
   "cell_type": "code",
   "execution_count": null,
   "id": "fabff13d-87eb-4d63-b97a-27a0537c35af",
   "metadata": {},
   "outputs": [
    {
     "name": "stdout",
     "output_type": "stream",
     "text": [
      "['The Great Gatsby', 'To Kill A Mockingbird', 'War And Peace']\n"
     ]
    }
   ],
   "source": [
    "#15. Formatting book titles before inserting into a database\n",
    "\n",
    "book_titles = [\"the great gatsby\", \"to kill a mockingbird\", \"war and peace\"]\n",
    "formatted_titles = [title.title() for title in book_titles]\n",
    "print(formatted_titles)\n"
   ]
  },
  {
   "cell_type": "code",
   "execution_count": null,
   "id": "ed5699cd-5917-4cef-88a1-3af129cdca5c",
   "metadata": {},
   "outputs": [
    {
     "name": "stdout",
     "output_type": "stream",
     "text": [
      "['New York', 'Los Angeles', 'San Francisco']\n"
     ]
    }
   ],
   "source": [
    "#16. Standardizing multi-word city names for location matching\n",
    "\n",
    "cities = [\"new york\", \"los angeles\", \"san francisco\"]\n",
    "standardized_cities = [city.title() for city in cities]\n",
    "print(standardized_cities)\n"
   ]
  },
  {
   "cell_type": "code",
   "execution_count": null,
   "id": "525e096b-9b70-4c72-8981-20e183bf0382",
   "metadata": {},
   "outputs": [
    {
     "name": "stdout",
     "output_type": "stream",
     "text": [
      "['Apple Iphone 14 Pro', 'Samsung Galaxy S23 Ultra', 'Sony Wh-1000Xm5 Headphones']\n"
     ]
    }
   ],
   "source": [
    "#17.Preparing product names for clean display in a dashboard\n",
    "\n",
    "products = [\"apple iphone 14 pro\", \"samsung galaxy s23 ultra\", \"sony wh-1000xm5 headphones\"]\n",
    "clean_products = [product.title() for product in products]\n",
    "print(clean_products)\n"
   ]
  },
  {
   "cell_type": "code",
   "execution_count": null,
   "id": "bb155cdf-b412-4959-8b61-e571a39712e2",
   "metadata": {},
   "outputs": [
    {
     "name": "stdout",
     "output_type": "stream",
     "text": [
      "['Total Sales Amount', 'Average Order Value', 'Number Of Customers']\n"
     ]
    }
   ],
   "source": [
    "#18. Formatting dataset column names for human-readable reports\n",
    "\n",
    "columns = [\"total sales amount\", \"average order value\", \"number of customers\"]\n",
    "readable_columns = [col.title() for col in columns]\n",
    "print(readable_columns)"
   ]
  },
  {
   "cell_type": "code",
   "execution_count": null,
   "id": "6e065bb6-f424-4890-bd0c-3c63e605ef3e",
   "metadata": {},
   "outputs": [
    {
     "name": "stdout",
     "output_type": "stream",
     "text": [
      "['Lord Of The Rings: The Return Of The King', 'Harry Potter And The Goblet Of Fire']\n"
     ]
    }
   ],
   "source": [
    "#19. Cleaning movie titles scraped from a website before storage\n",
    "\n",
    "raw_movies = [\"lord of the rings: the return of the king\", \"harry potter and the goblet of fire\"]\n",
    "formatted_movies = [movie.title() for movie in raw_movies]\n",
    "print(formatted_movies)\n"
   ]
  },
  {
   "cell_type": "code",
   "execution_count": 12,
   "id": "3015cae8-2ed5-4c90-b01b-fa348eb63624",
   "metadata": {},
   "outputs": [
    {
     "name": "stdout",
     "output_type": "stream",
     "text": [
      "Country match found\n"
     ]
    }
   ],
   "source": [
    "#20. Comparing user input against a reference list in a multilingual dataset\n",
    "\n",
    "allowed_countries = [\"românia\", \"france\", \"germany\"]\n",
    "user_input = \"ROMÂNIA\"\n",
    "if user_input.casefold() in [country.casefold() for country in allowed_countries]:\n",
    "    print(\"Country match found\")\n",
    "\n"
   ]
  },
  {
   "cell_type": "code",
   "execution_count": 13,
   "id": "576685dc-0604-428a-a291-a4f7137ca191",
   "metadata": {},
   "outputs": [
    {
     "name": "stdout",
     "output_type": "stream",
     "text": [
      "['andré', 'andre']\n"
     ]
    }
   ],
   "source": [
    "#21. Deduplicating names with mixed case and diacritics before loading into a database\n",
    "\n",
    "names = [\"André\", \"andré\", \"ANDRÉ\", \"Andre\"]\n",
    "unique_names = list(set([name.casefold() for name in names]))\n",
    "print(unique_names)\n",
    "    "
   ]
  },
  {
   "cell_type": "code",
   "execution_count": null,
   "id": "5b8a9c14-1e6e-4f2d-923e-8e26096bfe36",
   "metadata": {},
   "outputs": [
    {
     "name": "stdout",
     "output_type": "stream",
     "text": [
      "['iPhone 14 Pro', 'Samsung Galaxy S23']\n"
     ]
    }
   ],
   "source": [
    "#22. Matching product names from two systems with different casing rules\n",
    "\n",
    "system_a = [\"iPhone 14 Pro\", \"Samsung Galaxy S23\"]\n",
    "system_b = [\"IPHONE 14 PRO\", \"samsung galaxy s23\"]\n",
    "matches = [p1 for p1 in system_a for p2 in system_b if p1.casefold() == p2.casefold()]\n",
    "print(matches)\n"
   ]
  },
  {
   "cell_type": "code",
   "execution_count": 17,
   "id": "1f5b4dc6-c6f6-45ef-8492-e487838bacaa",
   "metadata": {},
   "outputs": [],
   "source": [
    "#23.  Searching for keywords in text regardless of case or accents\n",
    "\n",
    "text = \"Sistémul a detectat o Eróare Critică\"\n",
    "if \"eroare\".casefold() in text.casefold():\n",
    "    print(\"Error keyword found\")\n",
    "\n"
   ]
  },
  {
   "cell_type": "code",
   "execution_count": null,
   "id": "4de99d24-f276-4398-aa47-e1e2a3685b89",
   "metadata": {},
   "outputs": [
    {
     "name": "stdout",
     "output_type": "stream",
     "text": [
      "['example.com']\n"
     ]
    }
   ],
   "source": [
    "#24. Cleaning and comparing email domains ignoring case sensitivity\n",
    "emails = [\"John.Doe@Example.com\", \"alice@EXAMPLE.COM\", \"bob@example.com\"]\n",
    "unique_domains = list(set([email.split(\"@\")[1].casefold() for email in emails]))\n",
    "print(unique_domains)\n"
   ]
  },
  {
   "cell_type": "code",
   "execution_count": null,
   "id": "ee3dca65-e27b-4a1d-91ec-ac7cf5c8d614",
   "metadata": {},
   "outputs": [
    {
     "name": "stdout",
     "output_type": "stream",
     "text": [
      "['2025-08-12', '2025-08-12', '2025-08-12']\n"
     ]
    }
   ],
   "source": [
    "#25.Cleaning and standardizing date formats before loading into a database\n",
    "\n",
    "dates = [\"2025-08-12\", \"2025/08/12\", \"2025.08.12\"]\n",
    "clean_dates = [d.replace(\"/\", \"-\").replace(\".\", \"-\") for d in dates]\n",
    "print(clean_dates)\n"
   ]
  },
  {
   "cell_type": "code",
   "execution_count": null,
   "id": "0e0e32a3-eb15-46ef-a736-1c7424dc4e58",
   "metadata": {},
   "outputs": [
    {
     "name": "stdout",
     "output_type": "stream",
     "text": [
      "Name,Age,Country\n",
      "Alice,30,USA\n",
      "Bob,25,UK\n"
     ]
    }
   ],
   "source": [
    "#26.Masking sensitive information in log files\n",
    "\n",
    "csv_data = \"Name;Age;Country\\nAlice;30;USA\\nBob;25;UK\"\n",
    "fixed_csv = csv_data.replace(\";\", \",\")\n",
    "print(fixed_csv)\n"
   ]
  },
  {
   "cell_type": "code",
   "execution_count": null,
   "id": "6e5900f3-89ca-4f3e-a8e9-d0796821049e",
   "metadata": {},
   "outputs": [
    {
     "name": "stdout",
     "output_type": "stream",
     "text": [
      "HelloWorld\n"
     ]
    }
   ],
   "source": [
    "#27. Removing unwanted HTML tags from scraped data\n",
    "\n",
    "html_data = \"<div>Hello</div><p>World</p>\"\n",
    "clean_text = html_data.replace(\"<div>\", \"\").replace(\"</div>\", \"\").replace(\"<p>\", \"\").replace(\"</p>\", \"\")\n",
    "print(clean_text)"
   ]
  },
  {
   "cell_type": "code",
   "execution_count": null,
   "id": "f583f437-dc3c-4112-8f65-22eb9ebb771c",
   "metadata": {},
   "outputs": [
    {
     "name": "stdout",
     "output_type": "stream",
     "text": [
      "['PROD-001-NEW', 'PROD-002-NEW', 'PROD-003-NEW']\n"
     ]
    }
   ],
   "source": [
    "#28. Updating obsolete product codes in a dataset\n",
    "\n",
    "products = [\"PROD-001-OLD\", \"PROD-002-OLD\", \"PROD-003-OLD\"]\n",
    "updated_products = [p.replace(\"-OLD\", \"-NEW\") for p in products]\n",
    "print(updated_products)\n"
   ]
  }
 ],
 "metadata": {
  "kernelspec": {
   "display_name": "Python 3 (ipykernel)",
   "language": "python",
   "name": "python3"
  },
  "language_info": {
   "codemirror_mode": {
    "name": "ipython",
    "version": 3
   },
   "file_extension": ".py",
   "mimetype": "text/x-python",
   "name": "python",
   "nbconvert_exporter": "python",
   "pygments_lexer": "ipython3",
   "version": "3.13.5"
  }
 },
 "nbformat": 4,
 "nbformat_minor": 5
}
