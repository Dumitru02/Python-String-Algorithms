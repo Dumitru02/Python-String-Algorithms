{
 "cells": [
  {
   "cell_type": "code",
   "execution_count": 2,
   "id": "eba8f476-b949-49c3-b5e6-786b3ec0579a",
   "metadata": {},
   "outputs": [
    {
     "name": "stdout",
     "output_type": "stream",
     "text": [
      "John,25,Engineer\n"
     ]
    }
   ],
   "source": [
    "#1 Remove spaces from the beginning of a row in a CSV file.\n",
    "line = \"   John,25,Engineer\"\n",
    "clean_line = line.lstrip()\n",
    "print(clean_line)\n",
    "\n"
   ]
  },
  {
   "cell_type": "code",
   "execution_count": 3,
   "id": "89309d77-e232-49a9-9906-c3fd1ff2ba84",
   "metadata": {},
   "outputs": [],
   "source": [
    "#2. Remove all leading zeros from a numeric code."
   ]
  },
  {
   "cell_type": "code",
   "execution_count": 19,
   "id": "1dd9cd41-572b-4a42-b114-3e243f81a6ff",
   "metadata": {},
   "outputs": [
    {
     "name": "stdout",
     "output_type": "stream",
     "text": [
      "12345, max\n"
     ]
    }
   ],
   "source": [
    "product_id = \"00012345, max\"\n",
    "clean_id = product_id.lstrip(\"0\")\n",
    "print(clean_id)\n",
    "\n"
   ]
  },
  {
   "cell_type": "code",
   "execution_count": 18,
   "id": "d2952c1d-df68-4d78-bd25-990c1e0b68a4",
   "metadata": {},
   "outputs": [
    {
     "name": "stdout",
     "output_type": "stream",
     "text": [
      "ERROR###Data missing\n"
     ]
    }
   ],
   "source": [
    "#3 Remove all # characters from the start of an error message.\n",
    "raw_data = \"###ERROR###Data missing\"\n",
    "clean_data = raw_data.lstrip(\"#\")\n",
    "print(clean_data)\n",
    "\n"
   ]
  },
  {
   "cell_type": "code",
   "execution_count": 16,
   "id": "7e7937e0-cfc1-4931-8437-ea6da97dd0ce",
   "metadata": {},
   "outputs": [
    {
     "name": "stdout",
     "output_type": "stream",
     "text": [
      "data/warehouse/file.csv\n"
     ]
    }
   ],
   "source": [
    "4# Remove all / slashes from the beginning of a file path.\n",
    "\n",
    "path = \"//data/warehouse/file.csv\"\n",
    "clean_path = path.lstrip(\"/\")\n",
    "print (clean_path)\n"
   ]
  },
  {
   "cell_type": "code",
   "execution_count": 17,
   "id": "585fbac0-9e63-4a8b-a542-52c4fe8297f4",
   "metadata": {},
   "outputs": [
    {
     "name": "stdout",
     "output_type": "stream",
     "text": [
      "Log entry: system rebooted\n"
     ]
    }
   ],
   "source": [
    "#5 Remove tab characters from the start of a log line.\n",
    "\n",
    "text = \"\\t\\tLog entry: system rebooted\"\n",
    "clean_text = text.lstrip(\"\\t\")\n",
    "print(clean_text)\n"
   ]
  },
  {
   "cell_type": "code",
   "execution_count": 20,
   "id": "dace940a-26fc-4159-b824-1176a3ccc3e6",
   "metadata": {},
   "outputs": [
    {
     "name": "stdout",
     "output_type": "stream",
     "text": [
      "name,age\n"
     ]
    }
   ],
   "source": [
    "#6. Remove the BOM character \\ufeff from a CSV header.\n",
    "\n",
    "text = \"\\ufeffname,age\"\n",
    "clean_text = text.lstrip(\"\\ufeff\")\n",
    "print(clean_text)\n"
   ]
  },
  {
   "cell_type": "code",
   "execution_count": 22,
   "id": "6ea98c9b-71d8-42d6-b631-59f0585eed8a",
   "metadata": {},
   "outputs": [
    {
     "name": "stdout",
     "output_type": "stream",
     "text": [
      "1000\n"
     ]
    }
   ],
   "source": [
    "#7. Remove the \"USD\" prefix from a string representing an amount.\n",
    "\n",
    "value = \"USD1000\"\n",
    "clean_value = value.lstrip(\"USD\")\n",
    "print(clean_value)\n"
   ]
  },
  {
   "cell_type": "code",
   "execution_count": 23,
   "id": "a56bb6bc-c6e7-421c-9f7e-a98020dc9292",
   "metadata": {},
   "outputs": [
    {
     "name": "stdout",
     "output_type": "stream",
     "text": [
      "WARNING: Disk space low\n"
     ]
    }
   ],
   "source": [
    "#8. Remove all spaces and dots from the beginning of a log message.\n",
    "\n",
    "log = \"   ...WARNING: Disk space low\"\n",
    "clean_log = log.lstrip(\" .\")\n",
    "print(clean_log)\n"
   ]
  },
  {
   "cell_type": "code",
   "execution_count": 24,
   "id": "08c56ca0-20fa-4e66-b864-dbb942d558f2",
   "metadata": {},
   "outputs": [
    {
     "name": "stdout",
     "output_type": "stream",
     "text": [
      "120\n"
     ]
    }
   ],
   "source": [
    "#9. Remove all $ symbols from the start of a price.\n",
    "\n",
    "price = \"$$$120\"\n",
    "clean_price = price.lstrip(\"$\")\n",
    "print(clean_price)\n"
   ]
  },
  {
   "cell_type": "code",
   "execution_count": 26,
   "id": "ad69ceb9-ab93-4505-83f0-4c5af371e22c",
   "metadata": {},
   "outputs": [
    {
     "name": "stdout",
     "output_type": "stream",
     "text": [
      "username\n"
     ]
    }
   ],
   "source": [
    "#10. Remove all _ characters from the beginning of a username.\n",
    "\n",
    "data = \"___username\"\n",
    "clean_data = data.lstrip(\"_\")\n",
    "print(clean_data)\n"
   ]
  },
  {
   "cell_type": "code",
   "execution_count": 32,
   "id": "d00c390d-0796-4cba-8430-4d2451d96c0d",
   "metadata": {},
   "outputs": [
    {
     "name": "stdout",
     "output_type": "stream",
     "text": [
      "Dumitru Cristache\n"
     ]
    }
   ],
   "source": [
    "#11. Remove double quotes from the start of a phrase.\n",
    "\n",
    "line = '\"Dumitru Cristache'\n",
    "clean_line = line.lstrip('\"')\n",
    "print (clean_line)\n",
    "\n"
   ]
  },
  {
   "cell_type": "code",
   "execution_count": 28,
   "id": "62eacdcc-40c7-4b45-a46a-9a18ff764154",
   "metadata": {},
   "outputs": [
    {
     "name": "stdout",
     "output_type": "stream",
     "text": [
      "customer_id\n"
     ]
    }
   ],
   "source": [
    "# 12. Remove spaces from the start of a JSON key.\n",
    "key = \"   customer_id\"\n",
    "clean_key = key.lstrip()\n",
    "print(clean_key)\n",
    "\n"
   ]
  },
  {
   "cell_type": "code",
   "execution_count": 29,
   "id": "18b2e54e-363e-4297-a6a3-1f719efb1ad9",
   "metadata": {},
   "outputs": [
    {
     "name": "stdout",
     "output_type": "stream",
     "text": [
      "Product\n"
     ]
    }
   ],
   "source": [
    "# 13. Remove invisible characters from the beginning of a field exported from Excel.\n",
    "\n",
    "field = \"﻿Product\"\n",
    "clean_field = field.lstrip(\"﻿\")\n",
    "print(clean_field)\n"
   ]
  },
  {
   "cell_type": "code",
   "execution_count": 30,
   "id": "128aa8a8-6a8b-4eef-bc08-02755322809d",
   "metadata": {},
   "outputs": [
    {
     "name": "stdout",
     "output_type": "stream",
     "text": [
      "p>Hello</p>\n"
     ]
    }
   ],
   "source": [
    "#14. Remove <br> tags from the start of an HTML string.\n",
    "\n",
    "html = \"<br><p>Hello</p>\"\n",
    "clean_html = html.lstrip(\"<br>\")\n",
    "print(clean_html)\n",
    "\n"
   ]
  },
  {
   "cell_type": "code",
   "execution_count": 31,
   "id": "43fc64a0-9eeb-42ea-ae28-52b3ab29ea73",
   "metadata": {},
   "outputs": [
    {
     "name": "stdout",
     "output_type": "stream",
     "text": [
      "ERROR\u001b[0m\n"
     ]
    }
   ],
   "source": [
    "# 15. Remove ANSI control codes (e.g., \\x1b[31m) from the start of a colored terminal message\n",
    "\n",
    "text = \"\\x1b[31mERROR\\x1b[0m\"\n",
    "clean_text = text.lstrip(\"\\x1b[31m\")\n",
    "print(clean_text)\n"
   ]
  },
  {
   "cell_type": "code",
   "execution_count": null,
   "id": "63dd5848-6755-44bb-b262-e9bdba1d3a61",
   "metadata": {},
   "outputs": [],
   "source": []
  }
 ],
 "metadata": {
  "kernelspec": {
   "display_name": "Python 3 (ipykernel)",
   "language": "python",
   "name": "python3"
  },
  "language_info": {
   "codemirror_mode": {
    "name": "ipython",
    "version": 3
   },
   "file_extension": ".py",
   "mimetype": "text/x-python",
   "name": "python",
   "nbconvert_exporter": "python",
   "pygments_lexer": "ipython3",
   "version": "3.13.5"
  }
 },
 "nbformat": 4,
 "nbformat_minor": 5
}
