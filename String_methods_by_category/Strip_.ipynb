{
 "cells": [
  {
   "cell_type": "code",
   "execution_count": 2,
   "id": "db38f9dd-1bc7-43a5-b3fc-0bb5cff140d1",
   "metadata": {},
   "outputs": [
    {
     "name": "stdout",
     "output_type": "stream",
     "text": [
      "Hi,what is your name?   Cris \n"
     ]
    },
    {
     "data": {
      "text/plain": [
       "'Cris'"
      ]
     },
     "execution_count": 2,
     "metadata": {},
     "output_type": "execute_result"
    }
   ],
   "source": [
    "#15 Remove spaces from the beginning and end of a string:\n",
    "#Write a program that takes a string from the user and uses strip() to remove spaces from the beginning and end of the string.\n",
    "\n",
    "def user():\n",
    "    return input(\"Hi,what is your name?\").strip()\n",
    "user()    "
   ]
  },
  {
   "cell_type": "code",
   "execution_count": 4,
   "id": "7964c34b-539d-432e-b52f-c3cd776f176f",
   "metadata": {},
   "outputs": [
    {
     "data": {
      "text/plain": [
       "'Hello'"
      ]
     },
     "execution_count": 4,
     "metadata": {},
     "output_type": "execute_result"
    }
   ],
   "source": [
    "# 16.Remove a specific character:\n",
    "# Write a program that removes a specific character (e.g., “*”) from the beginning and end of a string.\n",
    "\n",
    "def user(a):\n",
    "    return a.strip('*!')\n",
    "user('Hello!')    "
   ]
  },
  {
   "cell_type": "code",
   "execution_count": 11,
   "id": "22838cd9-babf-45c5-a074-89489da81ea9",
   "metadata": {},
   "outputs": [
    {
     "name": "stdout",
     "output_type": "stream",
     "text": [
      "The string has unnecessary spaces at the beginning or end.\n"
     ]
    }
   ],
   "source": [
    "# 17.Check if a string has unnecessary spaces:\n",
    "  # Write a program that takes a string and checks if it has spaces at the beginning and end. Display an appropriate message.\n",
    "\n",
    "def user(a):\n",
    "    if a != a.strip(): \n",
    "        print('The string has unnecessary spaces at the beginning or end.')\n",
    "    else:\n",
    "        print('The string has no unnecessary spaces.')\n",
    "user(' Hello  ')\n"
   ]
  },
  {
   "cell_type": "code",
   "execution_count": 12,
   "id": "bfa3a96f-e325-4065-b02d-97816e18aea3",
   "metadata": {},
   "outputs": [
    {
     "name": "stdout",
     "output_type": "stream",
     "text": [
      "Hi, what is your name? Cris \n"
     ]
    },
    {
     "name": "stdout",
     "output_type": "stream",
     "text": [
      "Hello, Cris!\n"
     ]
    }
   ],
   "source": [
    "# 18. Remove tabs and spaces:\n",
    "     # Write a program that removes both tabs and spaces from the beginning and end of a string.\n",
    "\n",
    "def user():\n",
    "    name = input(\"Hi, what is your name?\").strip() \n",
    "    print(f\"Hello, {name}!\")\n",
    "\n",
    "user()"
   ]
  },
  {
   "cell_type": "code",
   "execution_count": null,
   "id": "8545f88d-ed5f-4ebe-873f-908de327c5e2",
   "metadata": {},
   "outputs": [],
   "source": [
    "# 19.Preprocess data:\n",
    "    # You have a text file where each line contains text with unnecessary spaces at the beginning and end. Use strip() to clean each line of the file.\n",
    "\n",
    "def user(filename):\n",
    "    with open(filename, 'r') as file:\n",
    "        for line in file:\n",
    "            print(line.strip()) \n",
    "\n",
    "user('your_file.txt')\n"
   ]
  },
  {
   "cell_type": "code",
   "execution_count": 35,
   "id": "22c095af-3b0b-4005-8768-6c2c387a4727",
   "metadata": {},
   "outputs": [
    {
     "name": "stdout",
     "output_type": "stream",
     "text": [
      "String is empty\n",
      "Hei\n"
     ]
    }
   ],
   "source": [
    "# 20.Check if the cleaned string is empty:\n",
    "    # Write a program that takes a string from the user, cleans it with strip(), and then checks if the resulting string is empty.\n",
    "\n",
    "def user(a):\n",
    "\n",
    "    clean = a.strip()\n",
    "    if len(a) == 0:\n",
    "        print(\"String is empty\")\n",
    "    else:\n",
    "        print(clean)\n",
    "\n",
    "user('')  \n",
    "user('Hei  ')"
   ]
  },
  {
   "cell_type": "code",
   "execution_count": 2,
   "id": "a0845820-e2e0-4869-87d5-0b4ccec7d01e",
   "metadata": {},
   "outputs": [
    {
     "name": "stdout",
     "output_type": "stream",
     "text": [
      "Hello\n"
     ]
    }
   ],
   "source": [
    "# 21.Preprocess with multiple strip characters:\n",
    "  # Write a program that removes multiple characters (e.g., “#”, “@”, or “*”) from the beginning and end of a string.\n",
    "\n",
    "import string\n",
    "\n",
    "def clean(a):   \n",
    "    return a.strip(string.whitespace + string.punctuation)\n",
    "\n",
    "message = \"   \\tHello !  \"\n",
    "print(clean(message))\n"
   ]
  },
  {
   "cell_type": "code",
   "execution_count": 10,
   "id": "274e983d-4102-49fd-9662-d607066975f2",
   "metadata": {},
   "outputs": [
    {
     "name": "stdout",
     "output_type": "stream",
     "text": [
      "   Hello !  \n"
     ]
    }
   ],
   "source": [
    "# 22.Send a cleaned message:\n",
    "# You receive a message that contains unnecessary formatting characters (spaces, tabs, etc.). \n",
    "# Clean the message using strip() and display it.\n",
    "\n",
    "import string\n",
    "\n",
    "def clean(a):   \n",
    "    return a.strip(string.whitespace + string.punctuation)\n",
    "\n",
    "message = \"   \\tHello !  \"\n",
    "print(clean(message))\n",
    "\n",
    "    \n"
   ]
  },
  {
   "cell_type": "code",
   "execution_count": 17,
   "id": "1bd8cd98-a28c-412d-8518-3cf241145a6c",
   "metadata": {},
   "outputs": [
    {
     "name": "stdout",
     "output_type": "stream",
     "text": [
      "-Hello-\n"
     ]
    }
   ],
   "source": [
    "# 23. Add a separator at the beginning and end of a string:\n",
    "# Write a program that adds a separator (e.g., “-”) at the beginning and end of a string, and then cleans it using strip().\n",
    "\n",
    "import string\n",
    "\n",
    "def add_separator(a):\n",
    "    separator = '-'\n",
    "    cleaned = a.strip(string.whitespace + string.punctuation)\n",
    "    return separator + cleaned + separator\n",
    "\n",
    "print(add_separator(\"   Hello ! @#@\"))\n",
    "\n"
   ]
  },
  {
   "cell_type": "code",
   "execution_count": 3,
   "id": "4a2eef70-76e2-4150-99aa-5b1c13d041f5",
   "metadata": {},
   "outputs": [
    {
     "name": "stdout",
     "output_type": "stream",
     "text": [
      "Cleaned string: Hello\n"
     ]
    }
   ],
   "source": [
    "# 24.Condition for cleaning a string:\n",
    "# Write a program that takes a string and, if the string contains spaces or special characters at the beginning and end, \n",
    "# cleans it and displays the result.\n",
    "\n",
    "import string\n",
    "\n",
    "def clean(a):\n",
    "    to_strip = string.whitespace + string.punctuation\n",
    "    if a[0] in to_strip or a[-1] in to_strip:\n",
    "        cleaned = a.strip(to_strip)\n",
    "        print(f\"Cleaned string: {cleaned}\")\n",
    "    else:\n",
    "        print(\"The string doesn't need cleaning.\")\n",
    "\n",
    "clean('  @#@# Hello*&*')   \n"
   ]
  },
  {
   "cell_type": "code",
   "execution_count": null,
   "id": "bc211db4-6e50-4a66-9875-64c2759abc56",
   "metadata": {},
   "outputs": [],
   "source": [
    "# 25. Clean CSV Columns\n",
    "# Write a program that reads a CSV file where each column value contains spaces or tabs. \n",
    "\n",
    "with open(\"data.csv\", \"r\") as file:\n",
    "    for line in file:\n",
    "        columns = line.strip().split(\",\")\n",
    "        cleaned = [col.strip() for col in columns]\n",
    "        print(cleaned)"
   ]
  }
 ],
 "metadata": {
  "kernelspec": {
   "display_name": "Python 3",
   "language": "python",
   "name": "python3"
  },
  "language_info": {
   "codemirror_mode": {
    "name": "ipython",
    "version": 3
   },
   "file_extension": ".py",
   "mimetype": "text/x-python",
   "name": "python",
   "nbconvert_exporter": "python",
   "pygments_lexer": "ipython3",
   "version": "3.13.2"
  }
 },
 "nbformat": 4,
 "nbformat_minor": 5
}
